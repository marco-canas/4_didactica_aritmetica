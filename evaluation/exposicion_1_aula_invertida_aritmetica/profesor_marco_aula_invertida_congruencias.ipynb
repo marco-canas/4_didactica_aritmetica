{
 "cells": [
  {
   "cell_type": "markdown",
   "id": "45769f8a",
   "metadata": {},
   "source": []
  },
  {
   "cell_type": "markdown",
   "id": "00993dc1",
   "metadata": {},
   "source": []
  },
  {
   "cell_type": "markdown",
   "id": "4d355743",
   "metadata": {},
   "source": [
    "# Exposición profesor Marco \n",
    "\n",
    "Aula invertida y situaciones problemáticas en la enseñanza del concepto de coongruencia en los enteros. "
   ]
  },
  {
   "cell_type": "code",
   "execution_count": null,
   "id": "6c3b6522",
   "metadata": {},
   "outputs": [],
   "source": []
  },
  {
   "cell_type": "code",
   "execution_count": null,
   "id": "e070cbb3",
   "metadata": {},
   "outputs": [],
   "source": []
  },
  {
   "cell_type": "code",
   "execution_count": null,
   "id": "c4c98f81",
   "metadata": {},
   "outputs": [],
   "source": []
  },
  {
   "cell_type": "code",
   "execution_count": null,
   "id": "32bcf6db",
   "metadata": {},
   "outputs": [],
   "source": []
  },
  {
   "cell_type": "code",
   "execution_count": null,
   "id": "8693bc96",
   "metadata": {},
   "outputs": [],
   "source": []
  }
 ],
 "metadata": {
  "kernelspec": {
   "display_name": "Python 3 (ipykernel)",
   "language": "python",
   "name": "python3"
  },
  "language_info": {
   "codemirror_mode": {
    "name": "ipython",
    "version": 3
   },
   "file_extension": ".py",
   "mimetype": "text/x-python",
   "name": "python",
   "nbconvert_exporter": "python",
   "pygments_lexer": "ipython3",
   "version": "3.9.13"
  }
 },
 "nbformat": 4,
 "nbformat_minor": 5
}
