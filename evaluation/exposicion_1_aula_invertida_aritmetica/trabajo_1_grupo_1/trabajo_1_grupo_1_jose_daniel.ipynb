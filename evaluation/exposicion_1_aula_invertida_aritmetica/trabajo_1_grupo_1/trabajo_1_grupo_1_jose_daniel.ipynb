{
 "cells": [
  {
   "cell_type": "markdown",
   "id": "0af773ba",
   "metadata": {},
   "source": []
  },
  {
   "cell_type": "markdown",
   "id": "e53e9012",
   "metadata": {},
   "source": []
  },
  {
   "cell_type": "markdown",
   "id": "6324ac29",
   "metadata": {},
   "source": [
    "# Clase de Trigonometría bajo el modelo de Pedagogía Invertida"
   ]
  },
  {
   "cell_type": "markdown",
   "id": "95618267",
   "metadata": {},
   "source": [
    "Funciones trigonometricas página 62 del Stewart "
   ]
  },
  {
   "cell_type": "code",
   "execution_count": null,
   "id": "7eca28a0",
   "metadata": {},
   "outputs": [],
   "source": []
  },
  {
   "cell_type": "code",
   "execution_count": null,
   "id": "6a71694d",
   "metadata": {},
   "outputs": [],
   "source": []
  },
  {
   "cell_type": "code",
   "execution_count": null,
   "id": "71ad1ba3",
   "metadata": {},
   "outputs": [],
   "source": []
  },
  {
   "cell_type": "code",
   "execution_count": null,
   "id": "2f78df87",
   "metadata": {},
   "outputs": [],
   "source": []
  },
  {
   "cell_type": "code",
   "execution_count": null,
   "id": "c74caebd",
   "metadata": {},
   "outputs": [],
   "source": []
  },
  {
   "cell_type": "code",
   "execution_count": null,
   "id": "864334e8",
   "metadata": {},
   "outputs": [],
   "source": []
  },
  {
   "cell_type": "code",
   "execution_count": null,
   "id": "03a068c3",
   "metadata": {},
   "outputs": [],
   "source": []
  },
  {
   "cell_type": "code",
   "execution_count": null,
   "id": "6a4dda87",
   "metadata": {},
   "outputs": [],
   "source": []
  },
  {
   "cell_type": "code",
   "execution_count": null,
   "id": "f2abbe39",
   "metadata": {},
   "outputs": [],
   "source": []
  }
 ],
 "metadata": {
  "kernelspec": {
   "display_name": "Python 3 (ipykernel)",
   "language": "python",
   "name": "python3"
  },
  "language_info": {
   "codemirror_mode": {
    "name": "ipython",
    "version": 3
   },
   "file_extension": ".py",
   "mimetype": "text/x-python",
   "name": "python",
   "nbconvert_exporter": "python",
   "pygments_lexer": "ipython3",
   "version": "3.9.13"
  }
 },
 "nbformat": 4,
 "nbformat_minor": 5
}
