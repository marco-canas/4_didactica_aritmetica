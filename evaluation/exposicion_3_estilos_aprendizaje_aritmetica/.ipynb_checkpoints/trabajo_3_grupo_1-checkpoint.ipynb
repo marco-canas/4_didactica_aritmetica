{
 "cells": [
  {
   "cell_type": "markdown",
   "id": "98fc825a",
   "metadata": {
    "slideshow": {
     "slide_type": "slide"
    }
   },
   "source": [
    "<table align=\"left\">\n",
    "  <td>\n",
    "    <a href=\"https://colab.research.google.com/github/marco-canas/4_didactica_aritmetica/blob/main/evaluation/exposicion_3_estilos_aprendizaje_aritmetica/trabajo_3_grupo_1.ipynb\" target=\"_parent\"><img src=\"https://colab.research.google.com/assets/colab-badge.svg\" alt=\"Open In Colab\"/></a>\n",
    "  </td>\n",
    "</table>"
   ]
  },
  {
   "cell_type": "markdown",
   "id": "c7b84cd9",
   "metadata": {
    "slideshow": {
     "slide_type": "slide"
    }
   },
   "source": [
    "## [Video de apoyo a la lectura interactiva y experimental de este cuaderno ]()"
   ]
  },
  {
   "cell_type": "markdown",
   "id": "0a6ad8fc",
   "metadata": {
    "slideshow": {
     "slide_type": "slide"
    }
   },
   "source": [
    "Modelo [Aula invertida](https://www3.gobiernodecanarias.org/medusa/ecoescuela/pedagotic/files/2018/11/flipped-classroom.pdf)"
   ]
  },
  {
   "cell_type": "markdown",
   "id": "9c88ac08",
   "metadata": {
    "slideshow": {
     "slide_type": "slide"
    }
   },
   "source": [
    "# Los estilos de aprendizaje "
   ]
  },
  {
   "cell_type": "markdown",
   "id": "45453e7d",
   "metadata": {
    "slideshow": {
     "slide_type": "slide"
    }
   },
   "source": [
    "Las teorías sobre estilos de aprendizaje han tomado un fuerte auge en los últimos treinta años. "
   ]
  },
  {
   "cell_type": "markdown",
   "id": "21513608",
   "metadata": {
    "slideshow": {
     "slide_type": "slide"
    }
   },
   "source": [
    "En realidad, existen diversas propuestas para clasificar los distintos estilos de aprendizaje de las personas, atendiendo \n",
    "a múltiples criterios y objetivos. "
   ]
  },
  {
   "cell_type": "markdown",
   "id": "df9cce6d",
   "metadata": {
    "slideshow": {
     "slide_type": "slide"
    }
   },
   "source": [
    "A continuación se presentan algunos de los principales autores que han estudiado este tema. \n",
    "Silva (1994) y James y Gardner (1995) plantean \n",
    "el estilo de aprendizaje como un proceso cognitivo, \n",
    "donde cada individuo percibe (absorbe) y procesa \n",
    "(retiene) información de manera particular. En este \n",
    "sentido, Lozano (2006), basado en el modelo de estilos \n",
    "de aprendizaje de Dunn y Dunn (1999), afirma que:\n",
    "El estilo de aprendizaje es un conjunto biológico y \n",
    "del desarrollo de características personales que hacen "
   ]
  },
  {
   "cell_type": "markdown",
   "id": "0f0f9b99",
   "metadata": {},
   "source": [
    "<img src = 'https://github.com/marco-canas/4_didactica_aritmetica/blob/main/evaluation/exposicion_3_estilos_aprendizaje_aritmetica/estilos_aprendizaje.png?raw=true'>"
   ]
  },
  {
   "cell_type": "markdown",
   "id": "fb9c19bc",
   "metadata": {
    "slideshow": {
     "slide_type": "slide"
    }
   },
   "source": [
    "# Trabajo 3 Grupo 1  "
   ]
  },
  {
   "cell_type": "markdown",
   "id": "3fd15278",
   "metadata": {
    "slideshow": {
     "slide_type": "slide"
    }
   },
   "source": [
    "## Objetivo de esta propuesta de clase\n",
    "\n",
    "* Promover un aprendizaje participativo, colaborativo e independiente en los estudiantes. \n",
    "* aprenda a factorizar trinomios cuadrados $ax^{2} + bx + c$\n"
   ]
  },
  {
   "cell_type": "markdown",
   "id": "19a9d22a",
   "metadata": {
    "slideshow": {
     "slide_type": "slide"
    }
   },
   "source": [
    "## Exploración de presaberes\n",
    "\n",
    "0. Qué es factorizar u de algún ejemplo: es descomponer en **factores**, \n",
    "\n",
    "$$ 20 = 5 \\cdot \\left(  2^{2} \\right) $$\n",
    "\n",
    "que diferencia hay entre factor y sumando\n",
    "¿cuál es la diferencia entre factorizar y efectuar un producto?  \n",
    "\n",
    "1. Factorización de trinomios cuadrados perfectos: $x^{2} + 2xy + y^{2}$.\n",
    "2. Factorización de un trinomio cuadrático cuando es de la forma $x^{2} + bx + c$\n",
    "3. Factorización de trinomios cuadráticos de la forma  $ax^{2} + bx + c$.\n",
    "1. Factorización por completación del trinomio cuadrado perfecto\n",
    "5. Factorización de trinomios cuadrados con la fórmula del bachiller"
   ]
  },
  {
   "cell_type": "markdown",
   "id": "404543eb",
   "metadata": {},
   "source": [
    "<img src = ''>\n",
    "\n",
    "imagen del método aspa. "
   ]
  },
  {
   "cell_type": "markdown",
   "id": "8d3457a3",
   "metadata": {
    "slideshow": {
     "slide_type": "slide"
    }
   },
   "source": [
    "# Factorización utilizando la fórmula del bachiller"
   ]
  },
  {
   "cell_type": "markdown",
   "id": "f9c732fc",
   "metadata": {
    "slideshow": {
     "slide_type": "slide"
    }
   },
   "source": [
    "Supongamos que tenemos una ecuación cuadrática $ax^{2} + bx + c = 0$, donde $a \\neq 0$, entonces su solución es: \n",
    "\n",
    "\n",
    "$$ x = \\frac{-b \\pm \\sqrt{b^{2} - 4ac}}{2a} $$"
   ]
  },
  {
   "cell_type": "markdown",
   "id": "98fa25cb",
   "metadata": {
    "slideshow": {
     "slide_type": "slide"
    }
   },
   "source": [
    "## Empecemos con el teorema del residuo"
   ]
  },
  {
   "cell_type": "code",
   "execution_count": null,
   "id": "fc2fe765",
   "metadata": {
    "slideshow": {
     "slide_type": "slide"
    }
   },
   "outputs": [],
   "source": []
  },
  {
   "cell_type": "markdown",
   "id": "6d301a10",
   "metadata": {
    "slideshow": {
     "slide_type": "slide"
    }
   },
   "source": [
    "# Continuemos con el teorema del factor"
   ]
  },
  {
   "cell_type": "code",
   "execution_count": null,
   "id": "5a2f99c4",
   "metadata": {
    "slideshow": {
     "slide_type": "slide"
    }
   },
   "outputs": [],
   "source": []
  },
  {
   "cell_type": "markdown",
   "id": "d4c417bd",
   "metadata": {
    "slideshow": {
     "slide_type": "slide"
    }
   },
   "source": [
    "## Terminemos con el teorema fundamental del álgebra"
   ]
  },
  {
   "cell_type": "markdown",
   "id": "d9f748f8",
   "metadata": {},
   "source": [
    "# Teorema fundamental del álgebra\n",
    "\n",
    "\n",
    "El teorema fundamental del álgebra establece que todo polinomio de grado mayor que cero tiene una raíz.1​ El dominio de la variable es el conjunto de los números complejos, que es una extensión de los números reales.\n",
    "\n",
    "Aunque este enunciado, en principio, parece ser una declaración débil, implica que todo polinomio de grado n de una variable con grado mayor que cero con coeficientes complejos tiene, contando las multiplicidades, exactamente n raíces complejas. La equivalencia de estos dos enunciados se realiza mediante la división polinómica sucesiva por factores lineales.\n",
    "\n",
    "Hay muchas demostraciones de esta importante proposición, que requieren bastantes conocimientos matemáticos para formalizarlas. "
   ]
  },
  {
   "cell_type": "code",
   "execution_count": null,
   "id": "d8bc470a",
   "metadata": {
    "slideshow": {
     "slide_type": "slide"
    }
   },
   "outputs": [],
   "source": []
  },
  {
   "cell_type": "markdown",
   "id": "2f34cd27",
   "metadata": {},
   "source": [
    "## Actividades para trabajo por fuera de clase"
   ]
  },
  {
   "cell_type": "code",
   "execution_count": null,
   "id": "85c612cf",
   "metadata": {},
   "outputs": [],
   "source": []
  },
  {
   "cell_type": "markdown",
   "id": "ca44bb77",
   "metadata": {
    "slideshow": {
     "slide_type": "slide"
    }
   },
   "source": [
    "## Actividades de clase\n",
    "\n",
    "1. Hacer un mapa conceptual que explique porqué una fórmula para resolver una ecuación cuadrática sirve para factorizar trinomios cuadráticos. "
   ]
  },
  {
   "cell_type": "markdown",
   "id": "7123db0d",
   "metadata": {
    "slideshow": {
     "slide_type": "slide"
    }
   },
   "source": [
    "### Problema\n",
    "\n",
    "Factorice la siguiente forma cuadrática\n",
    "\n",
    "$$ x^{2} - 3x  + 2 $$\n"
   ]
  },
  {
   "cell_type": "markdown",
   "id": "cdbdf621",
   "metadata": {},
   "source": [
    "## Solución "
   ]
  },
  {
   "cell_type": "code",
   "execution_count": 1,
   "id": "2958b6b2",
   "metadata": {
    "slideshow": {
     "slide_type": "slide"
    }
   },
   "outputs": [],
   "source": [
    "def f(x):\n",
    "    return x**2-3*x + 2"
   ]
  },
  {
   "cell_type": "markdown",
   "id": "16961b05",
   "metadata": {
    "slideshow": {
     "slide_type": "slide"
    }
   },
   "source": [
    "## Evaluación de funciones "
   ]
  },
  {
   "cell_type": "code",
   "execution_count": 4,
   "id": "522eeee4",
   "metadata": {
    "slideshow": {
     "slide_type": "slide"
    }
   },
   "outputs": [
    {
     "data": {
      "text/plain": [
       "0"
      ]
     },
     "execution_count": 4,
     "metadata": {},
     "output_type": "execute_result"
    }
   ],
   "source": [
    "f(2)"
   ]
  },
  {
   "cell_type": "markdown",
   "id": "945c281c",
   "metadata": {
    "slideshow": {
     "slide_type": "slide"
    }
   },
   "source": [
    "* entonces $1$ y $2$ son ceros de de la función $f$. \n",
    "* Geometrícamente son los puntosd del eje horizontral donde la gráfica de la función cuadrática corta o toca al eje $x$.  "
   ]
  },
  {
   "cell_type": "code",
   "execution_count": null,
   "id": "1636b206",
   "metadata": {
    "slideshow": {
     "slide_type": "slide"
    }
   },
   "outputs": [],
   "source": [
    "import numpy as np \n",
    "\n",
    "import matplotlib.pyplot as plt \n",
    "\n",
    "\n",
    "\n",
    "\n"
   ]
  },
  {
   "cell_type": "markdown",
   "id": "1a78dd71",
   "metadata": {
    "slideshow": {
     "slide_type": "slide"
    }
   },
   "source": [
    "## Referentes   \n",
    "\n",
    "* Estilos de enseñanza y estilos de aprendizaje: implicaciones para la educación por ciclos. Paulo Emilio Oviedo Universidad de La Salle, poviedo@unisalle.edu.co "
   ]
  },
  {
   "cell_type": "markdown",
   "id": "564475a0",
   "metadata": {
    "slideshow": {
     "slide_type": "slide"
    }
   },
   "source": [
    "## [vínculo para envio de video y cuaderno de diseño de clase](https://forms.office.com/Pages/ResponsePage.aspx?id=IefhmYRxjkmK_7KtTlPBwkanXIs1i1FEujpsZgO6dXpUOUI0SjhCOEc3NFE2VlhaVlQ5V0UyVk9ERC4u)"
   ]
  },
  {
   "cell_type": "code",
   "execution_count": null,
   "id": "7b32f747",
   "metadata": {},
   "outputs": [],
   "source": []
  }
 ],
 "metadata": {
  "celltoolbar": "Slideshow",
  "kernelspec": {
   "display_name": "Python 3 (ipykernel)",
   "language": "python",
   "name": "python3"
  },
  "language_info": {
   "codemirror_mode": {
    "name": "ipython",
    "version": 3
   },
   "file_extension": ".py",
   "mimetype": "text/x-python",
   "name": "python",
   "nbconvert_exporter": "python",
   "pygments_lexer": "ipython3",
   "version": "3.9.13"
  }
 },
 "nbformat": 4,
 "nbformat_minor": 5
}
