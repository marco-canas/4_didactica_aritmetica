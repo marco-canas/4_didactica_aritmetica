{
 "cells": [
  {
   "cell_type": "markdown",
   "id": "bc1979f0",
   "metadata": {
    "slideshow": {
     "slide_type": "slide"
    }
   },
   "source": [
    "<table align=\"left\">\n",
    "  <td>\n",
    "    <a href=\"https://colab.research.google.com/github/marco-canas/didactica_ciencia_datos/blob/main/propuesta/unidad_didac/1_statistic/1_Basic_Descriptive_Statistics/2_medidas_variabilidad/2_varianza.ipynb\" target=\"_parent\"><img src=\"https://colab.research.google.com/assets/colab-badge.svg\" alt=\"Open In Colab\"/></a>\n",
    "  </td>\n",
    "</table>"
   ]
  },
  {
   "cell_type": "markdown",
   "id": "cf01ed1b",
   "metadata": {
    "slideshow": {
     "slide_type": "slide"
    }
   },
   "source": [
    "## [Video de apoyo a la lectura interactiva y experimental de este cuaderno](https://www.youtube.com/watch?v=rYF9iujgJP0)"
   ]
  },
  {
   "cell_type": "markdown",
   "id": "4c549277",
   "metadata": {
    "slideshow": {
     "slide_type": "slide"
    }
   },
   "source": [
    "# Trabajo 2 Grupo 1. Potenciación desde el estilo de enseñanza 1 "
   ]
  },
  {
   "cell_type": "markdown",
   "id": "1fe1fd3a",
   "metadata": {
    "slideshow": {
     "slide_type": "slide"
    }
   },
   "source": [
    "## [estilos de enseñanza](https://udeaeduco-my.sharepoint.com/:b:/g/personal/marco_canas_udea_edu_co/EagoH3hpbShEub1IqCmJRegBJr0fWJw48dvWgUpDnXx5Kw?e=lBKEEC)"
   ]
  },
  {
   "cell_type": "markdown",
   "id": "1204d98a",
   "metadata": {
    "slideshow": {
     "slide_type": "slide"
    }
   },
   "source": [
    "Estilos de enseñanza y estilos de aprendizaje: implicaciones para la educación por ciclos   \n",
    "\n",
    "Paulo Emilio Oviedo   \n",
    "Universidad de La Salle, poviedo@unisalle.edu.co    "
   ]
  },
  {
   "cell_type": "markdown",
   "id": "12e083ff",
   "metadata": {
    "slideshow": {
     "slide_type": "slide"
    }
   },
   "source": [
    "En este artículo se presentan los resultados de una investigación adelantada durante el 2009 en la ciudad de Bogotá con 90 profesores y 1136 estudiantes de los grados 10 y 11 de siete instituciones educativas del Distrito Capital."
   ]
  },
  {
   "cell_type": "markdown",
   "id": "13c845cb",
   "metadata": {
    "slideshow": {
     "slide_type": "slide"
    }
   },
   "source": [
    "La investigación tuvo como objetivo examinar la relación entre los estilos de enseñanza de los profesores y los estilos de aprendizaje de los estudiantes y sus implicaciones en la educación por ciclos. "
   ]
  },
  {
   "cell_type": "markdown",
   "id": "29bb9fc2",
   "metadata": {
    "slideshow": {
     "slide_type": "slide"
    }
   },
   "source": [
    "La investigación tuvo como referente conceptual los estudios sobre los estilos de enseñanza y los estilos de aprendizaje propuestos por autores como Grasha (1996), Witkin et ál. (1977), Ausubel et ál. (1976), entre otros. "
   ]
  },
  {
   "cell_type": "markdown",
   "id": "cb66b44f",
   "metadata": {
    "slideshow": {
     "slide_type": "slide"
    }
   },
   "source": [
    "En la investigación se empleó un diseño de tipo seccional, en el que los estilos de enseñanza y los estilos de aprendizaje se evaluaron a través de la aplicación de instrumentos —cuestionarios de Grasha-Riechmann (1975)—. "
   ]
  },
  {
   "cell_type": "markdown",
   "id": "d1dcc09d",
   "metadata": {
    "slideshow": {
     "slide_type": "slide"
    }
   },
   "source": [
    "Los resultados obtenidos en cada institución se analizan mediante operaciones matemáticas que se promedian y comparan para hallar los estilos predominantes de enseñanza de los profesores y los estilos de aprendizaje de los estudiantes y sus implicaciones en la educación por ciclos.  "
   ]
  },
  {
   "cell_type": "markdown",
   "id": "07b004ff",
   "metadata": {
    "slideshow": {
     "slide_type": "slide"
    }
   },
   "source": [
    "Las exigencias que caracterizan el ejercicio del profesor han generado en muchos países la preocupación por el desarrollo profesional de este. "
   ]
  },
  {
   "cell_type": "markdown",
   "id": "d2beb545",
   "metadata": {
    "slideshow": {
     "slide_type": "slide"
    }
   },
   "source": [
    "Las tareas de la docencia requieren su preparación, como un factor clave para el fomento de la calidad de la educación. "
   ]
  },
  {
   "cell_type": "markdown",
   "id": "86bded5b",
   "metadata": {
    "slideshow": {
     "slide_type": "slide"
    }
   },
   "source": [
    "Un análisis de las perspectivas desde las cuales se ha abordado la práctica pedagógica permite apreciar, en muchos casos, la ausencia de una reflexión sobre los estilos de enseñanza y los estilos de aprendizaje, de una toma de conciencia de lo que se hace como profesor y lo que hace el estudiante, ya que dicha reflexión es postergada ante la necesidad de resolver situaciones cotidianas. "
   ]
  },
  {
   "cell_type": "markdown",
   "id": "2f3a1f78",
   "metadata": {
    "slideshow": {
     "slide_type": "slide"
    }
   },
   "source": [
    "Con frecuencia, los profesores consideran que es urgente hacer cosas, actuar con un sentido técnico o desarrollar actividades innovadoras, sin detenerse a pensar en por qué actúan así y cómo influyen sus decisiones en los resultados que obtienen.  "
   ]
  },
  {
   "cell_type": "markdown",
   "id": "fdc6324e",
   "metadata": {
    "slideshow": {
     "slide_type": "slide"
    }
   },
   "source": [
    "Esto implica considerar la importancia del compromiso de la Universidad de La Salle como formadora de formadores y en la producción de conocimiento sobre los procesos cognitivos, metodológicos y actitudinales que se desarrollan en las aulas, asumidos por los estilos de enseñanza de los profesores y los estilos de aprendizaje de los estudiantes, con la idea de responder de manera más pertinente al reto de formar profesores para una sociedad del conocimiento."
   ]
  },
  {
   "cell_type": "markdown",
   "id": "cdc6df6e",
   "metadata": {
    "slideshow": {
     "slide_type": "slide"
    }
   },
   "source": [
    "Desde los anteriores presupuestos, se han desarrollado las primeras etapas de la investigación, que tratan de determinar las implicaciones que tiene la visibilización, reflexión y toma de conciencia sobre los estilos de enseñanza de los profesores y los estilos de aprendizaje de los estudiantes en la educación por ciclos."
   ]
  },
  {
   "cell_type": "markdown",
   "id": "987c1f49",
   "metadata": {
    "slideshow": {
     "slide_type": "slide"
    }
   },
   "source": [
    "La intencionalidad de las primeras fases de la investigación ha sido elegir los colegios y generar un proceso reflexivo sobre los estilos de enseñanza, los estilos de aprendizaje y la educación por ciclos."
   ]
  },
  {
   "cell_type": "markdown",
   "id": "6ee630ce",
   "metadata": {
    "slideshow": {
     "slide_type": "slide"
    }
   },
   "source": [
    "En la Universidad de La Salle, el Grupo de Investigación en Resolución de Problemas, Evaluación y Dificultades de Aprendizaje (Prevadia) ha desarrollado conceptos con los cuales se abordan los análisis y las reflexiones iniciales en los que profundiza el proyecto:   \n",
    "\n",
    "estilos de enseñanza, estilos de aprendizaje y educación por ciclos. "
   ]
  },
  {
   "cell_type": "markdown",
   "id": "5756543a",
   "metadata": {
    "slideshow": {
     "slide_type": "slide"
    }
   },
   "source": [
    "Los estilos de enseñanza\n",
    "Los estilos de enseñanza han sido conceptualizados \n",
    "en la investigación como las formas particulares de \n",
    "interactuar en el aula que emplean los docentes y que \n",
    "reflejan, implícita o explícitamente, las concepciones \n",
    "que ellos poseen acerca del conocimiento, la enseñanza, \n",
    "el aprendizaje, la evaluación, el estudiante y el docente \n",
    "mismo. Concepción que ha sido fundamentada desde \n",
    "diversos autores.\n",
    "Lozano (2006) hace referencia a los estilos (cogni\u0002tivos, de personalidad, de aprendizaje, de enseñanza \n",
    "e intelectuales). Varios autores hacen alusión a dispo\u0002siciones (Pask, 1986), preferencias o gustos (Sternberg, \n",
    "1997; Hirsh y Kummerow, 1990; Dunn y Dunn, 1978), \n",
    "tendencias o inclinaciones (Kagan, 1965), patrones con\u0002ductuales que pueden o no ser observables, estrategias \n",
    "de aprendizaje (Riding y Rayner, 1998; Guild y Garger, \n",
    "1985) y habilidades y fortalezas (Gardner, 1983).\n",
    "Camargo y Hederich (2007: 33) señalan que las \n",
    "investigaciones sobre los estilos de enseñanza se han \n",
    "adelantado desde dos líneas con propósitos y desarrollos \n",
    "teóricos diferentes: una psicológica y otra pedagógica. \n",
    "Desde la primera, “el estilo de enseñanza tiene un origen \n",
    "vinculado con la psicología diferencial y concibe los estilos \n",
    "de enseñanza como una manifestación más del concepto \n",
    "general estilo cognitivo”. A partir de esta perspectiva, \n",
    "“el estilo de enseñanza se adopta para referirse al estilo \n",
    "cognitivo, de aprendizaje y de pensamiento del profesor \n",
    "durante su actividad docente” (Li-Fang, 2004).\n",
    "Desde la segunda, la tradición pedagógica, el tema \n",
    "de los estilos de enseñanza se enmarca en el “contexto \n",
    "de las necesidades de cualificación docente en busca \n",
    "de una enseñanza cada vez más efectiva, para algunos, \n",
    "o una enseñanza cada vez más reflexiva y consciente, \n",
    "para otros” (p. 34). Brostrom (1979) propone una \n",
    "clasificación de los profesores basada en cuatro esti\u0002los, a saber: a) doctor, que moldea comportamientos \n",
    "mediante refuerzo; b) experto, que hace énfasis en el \n",
    "conocimiento que debe adquirirse; c) entrenador, que pone su atención en la aplicación práctica del conocimiento; y d) humanista, que valora el autodescubri\u0002miento en contextos acogedores y flexibles (Camargo \n",
    "y Hederich, 2007: 35)."
   ]
  },
  {
   "cell_type": "markdown",
   "id": "d28f380e",
   "metadata": {
    "slideshow": {
     "slide_type": "slide"
    }
   },
   "source": [
    "Otra propuesta relacionada con los estilos de enseñanza es la llevada a cabo por Grasha (1996), quien a partir de la idea de que los estilos de enseñanza son solo una parte de la ecuación en la actividad educativa dentro del aula, propuso un modelo integrado de estilos de enseñanza y estilos de aprendizaje. "
   ]
  },
  {
   "cell_type": "markdown",
   "id": "44e7d17e",
   "metadata": {
    "slideshow": {
     "slide_type": "slide"
    }
   },
   "source": [
    "Según este autor, se pueden definir cinco estilos de enseñanza específicos: el de experto, el de autoridad formal, el \n",
    "de modelo personal, el facilitador y el delegador. "
   ]
  },
  {
   "cell_type": "markdown",
   "id": "d05655b8",
   "metadata": {
    "slideshow": {
     "slide_type": "slide"
    }
   },
   "source": [
    "El siguiente cuadro ilustra las características de cada uno de los estilos propuestos por Grasha. "
   ]
  },
  {
   "cell_type": "markdown",
   "id": "d390d9a4",
   "metadata": {},
   "source": [
    "<img src = ''>"
   ]
  },
  {
   "cell_type": "markdown",
   "id": "9a0a64a4",
   "metadata": {
    "slideshow": {
     "slide_type": "slide"
    }
   },
   "source": [
    "# Potenciación. Una reflexión desde la aritmética"
   ]
  },
  {
   "cell_type": "markdown",
   "id": "a8dc5bb8",
   "metadata": {
    "slideshow": {
     "slide_type": "slide"
    }
   },
   "source": [
    "Simplifique la expresión. Suponga que las letras representan números reales.\n",
    "$$ \\sqrt[4]{x^{4}} $$"
   ]
  },
  {
   "cell_type": "markdown",
   "id": "6e2f9b08",
   "metadata": {
    "slideshow": {
     "slide_type": "slide"
    }
   },
   "source": [
    "Este problema de simplificación se parece al problema de simplificar \n",
    "\n",
    "$$ \\sqrt{x^{2}} $$\n",
    "\n",
    "considerando que $x$ es un número real. \n"
   ]
  },
  {
   "cell_type": "markdown",
   "id": "9557d5d2",
   "metadata": {
    "slideshow": {
     "slide_type": "slide"
    }
   },
   "source": [
    "Recordemos $x^{2} = x \\cdot x$. Lo que quiere decir que la potenciación de exponente entero positivo significa multiplicación repetida. "
   ]
  },
  {
   "cell_type": "markdown",
   "id": "a82a72e8",
   "metadata": {
    "slideshow": {
     "slide_type": "slide"
    }
   },
   "source": [
    "La utilidad de la potenciación de entero positivo es la de resumir las expreseiones de muchos factores repetidos. "
   ]
  },
  {
   "cell_type": "markdown",
   "id": "47e4c2db",
   "metadata": {
    "slideshow": {
     "slide_type": "slide"
    }
   },
   "source": [
    "Luego, elevar al cuadrado y en general a cualquier potencia par nos dará un resultado positivo a cero. \n",
    "\n",
    "$$ x^{2n} \\geq 0 $$"
   ]
  },
  {
   "cell_type": "markdown",
   "id": "dd4a0901",
   "metadata": {
    "slideshow": {
     "slide_type": "slide"
    }
   },
   "source": [
    "## Definición de raiz cuadrada como operador funcional "
   ]
  },
  {
   "cell_type": "markdown",
   "id": "2c6e10f3",
   "metadata": {
    "slideshow": {
     "slide_type": "slide"
    }
   },
   "source": [
    "Sea $x \\in \\mathbb{R}^{+} \\cup \\{0\\}$, entonces \n",
    "\n",
    "$$\\sqrt{x} := y \\geq 0$$\n",
    "\n",
    "tal que $y^{2} = x$"
   ]
  },
  {
   "cell_type": "markdown",
   "id": "b9eb7c0a",
   "metadata": {
    "slideshow": {
     "slide_type": "slide"
    }
   },
   "source": [
    "De donde se infiere que \n",
    "\n",
    "$$\\sqrt{x^{2}} = |x|$$\n"
   ]
  },
  {
   "cell_type": "markdown",
   "id": "b8b4cefa",
   "metadata": {
    "slideshow": {
     "slide_type": "slide"
    }
   },
   "source": [
    "$$ \\sqrt[4]{x^{4}}  = |x|$$"
   ]
  },
  {
   "cell_type": "markdown",
   "id": "be33adb9",
   "metadata": {
    "slideshow": {
     "slide_type": "slide"
    }
   },
   "source": [
    "# La potenciación de exponente racional "
   ]
  },
  {
   "cell_type": "markdown",
   "id": "676ecdba",
   "metadata": {
    "slideshow": {
     "slide_type": "slide"
    }
   },
   "source": [
    "$$ x^{1/2} = \\sqrt[2]{x^{1}} $$\n",
    "\n",
    "la potenciación de exponente racional significa radicación"
   ]
  },
  {
   "cell_type": "markdown",
   "id": "4692a81a",
   "metadata": {
    "slideshow": {
     "slide_type": "slide"
    }
   },
   "source": [
    "\\begin{align*}\n",
    "\\sqrt[4]{x^{4}} & = (x^{4})^{1/4} \\\\\n",
    "                & = |x|^{1}\n",
    "\\end{align*}"
   ]
  },
  {
   "cell_type": "code",
   "execution_count": 10,
   "id": "cae73b8e",
   "metadata": {
    "slideshow": {
     "slide_type": "slide"
    }
   },
   "outputs": [],
   "source": [
    "from sympy import *"
   ]
  },
  {
   "cell_type": "code",
   "execution_count": 11,
   "id": "5a07b5d3",
   "metadata": {
    "slideshow": {
     "slide_type": "slide"
    }
   },
   "outputs": [],
   "source": [
    "x = var('x', real = True)"
   ]
  },
  {
   "cell_type": "code",
   "execution_count": 12,
   "id": "e1b4091c",
   "metadata": {
    "slideshow": {
     "slide_type": "slide"
    }
   },
   "outputs": [
    {
     "data": {
      "text/latex": [
       "$\\displaystyle \\left|{x}\\right|^{1.0}$"
      ],
      "text/plain": [
       "Abs(x)**1.0"
      ]
     },
     "execution_count": 12,
     "metadata": {},
     "output_type": "execute_result"
    }
   ],
   "source": [
    "(x**4)**(1/4)"
   ]
  },
  {
   "cell_type": "code",
   "execution_count": 9,
   "id": "ba80848a",
   "metadata": {
    "slideshow": {
     "slide_type": "slide"
    }
   },
   "outputs": [
    {
     "ename": "AttributeError",
     "evalue": "'float' object has no attribute 'evalf'",
     "output_type": "error",
     "traceback": [
      "\u001b[1;31m---------------------------------------------------------------------------\u001b[0m",
      "\u001b[1;31mAttributeError\u001b[0m                            Traceback (most recent call last)",
      "\u001b[1;32m~\\AppData\\Local\\Temp\\ipykernel_14528\\1504931153.py\u001b[0m in \u001b[0;36m<module>\u001b[1;34m\u001b[0m\n\u001b[1;32m----> 1\u001b[1;33m \u001b[1;33m(\u001b[0m\u001b[0mx\u001b[0m\u001b[1;33m**\u001b[0m\u001b[1;36m4\u001b[0m\u001b[1;33m)\u001b[0m\u001b[1;33m**\u001b[0m\u001b[1;33m(\u001b[0m\u001b[1;36m1\u001b[0m\u001b[1;33m/\u001b[0m\u001b[1;36m4\u001b[0m\u001b[1;33m)\u001b[0m\u001b[1;33m.\u001b[0m\u001b[0mevalf\u001b[0m\u001b[1;33m(\u001b[0m\u001b[1;33m)\u001b[0m\u001b[1;33m\u001b[0m\u001b[1;33m\u001b[0m\u001b[0m\n\u001b[0m",
      "\u001b[1;31mAttributeError\u001b[0m: 'float' object has no attribute 'evalf'"
     ]
    }
   ],
   "source": [
    "(x**4)**(1/4)"
   ]
  },
  {
   "cell_type": "markdown",
   "id": "2333ac11",
   "metadata": {
    "slideshow": {
     "slide_type": "slide"
    }
   },
   "source": [
    "## Representación gráfica de la raiz del cuadrado de un número real x"
   ]
  },
  {
   "cell_type": "code",
   "execution_count": 16,
   "id": "7a2859e7",
   "metadata": {
    "slideshow": {
     "slide_type": "slide"
    }
   },
   "outputs": [
    {
     "data": {
      "image/png": "[encoded data removed]",
      "text/plain": [
       "<Figure size 640x480 with 1 Axes>"
      ]
     },
     "metadata": {},
     "output_type": "display_data"
    }
   ],
   "source": [
    "import numpy as np \n",
    "import matplotlib.pyplot as plt\n",
    "\n",
    "x = np.arange(-4, 5)\n",
    "\n",
    "plt.plot(x, (x**2)**(1/2))\n",
    "\n",
    "plt.title('la raiz del cuadrado de un número real x')\n",
    "\n",
    "plt.grid(alpha = 0.4) \n",
    "\n",
    "plt.savefig('la_raiz_del_cuadrado.jpg')\n",
    "\n",
    "plt.show()\n"
   ]
  },
  {
   "cell_type": "markdown",
   "id": "ca3544a1",
   "metadata": {},
   "source": [
    "## Conclusiones de la experimentación gráfica con matplotlib"
   ]
  },
  {
   "cell_type": "markdown",
   "id": "b18c7c13",
   "metadata": {},
   "source": [
    "* Efectivamente la raiz del cuadado de un número real es su valor obsoluto. "
   ]
  },
  {
   "cell_type": "markdown",
   "id": "70d9babe",
   "metadata": {
    "slideshow": {
     "slide_type": "slide"
    }
   },
   "source": [
    "## Realice un video y un cuaderno en donde enseñe a eidtar líneas markdown y a utilizar sympy para simplificar expresiones algebraicas asociadas a la potenciación y a la radicación. "
   ]
  },
  {
   "cell_type": "markdown",
   "id": "14ad5cb7",
   "metadata": {
    "slideshow": {
     "slide_type": "slide"
    }
   },
   "source": [
    "Simplifique \n",
    "\n",
    "\n",
    "$$ \\sqrt[5]{x^{10}} $$"
   ]
  },
  {
   "cell_type": "markdown",
   "id": "64363b2e",
   "metadata": {
    "slideshow": {
     "slide_type": "slide"
    }
   },
   "source": [
    "## [Envie su tarea resuelta a través de este vínculo de Microsoft form]()"
   ]
  },
  {
   "cell_type": "markdown",
   "id": "5ca56e8a",
   "metadata": {
    "slideshow": {
     "slide_type": "slide"
    }
   },
   "source": [
    "## Referentes  \n",
    "\n",
    "* [Estilos de enseñanza](https://udeaeduco-my.sharepoint.com/:b:/g/personal/marco_canas_udea_edu_co/EagoH3hpbShEub1IqCmJRegBJr0fWJw48dvWgUpDnXx5Kw?e=lBKEEC) Paulo Emilio Oviedo  \n",
    "\n",
    "* Declaración de variables simbólicas en Sympy: https://mauriciotejada.com/programacionjulia/%C3%A1lgebra-simb%C3%B3lica.html"
   ]
  },
  {
   "cell_type": "code",
   "execution_count": null,
   "id": "0028d5cc",
   "metadata": {},
   "outputs": [],
   "source": []
  }
 ],
 "metadata": {
  "celltoolbar": "Slideshow",
  "kernelspec": {
   "display_name": "Python 3 (ipykernel)",
   "language": "python",
   "name": "python3"
  },
  "language_info": {
   "codemirror_mode": {
    "name": "ipython",
    "version": 3
   },
   "file_extension": ".py",
   "mimetype": "text/x-python",
   "name": "python",
   "nbconvert_exporter": "python",
   "pygments_lexer": "ipython3",
   "version": "3.9.13"
  },
  "rise": {
   "enable_chalkboard": true,
   "theme": "sky"
  }
 },
 "nbformat": 4,
 "nbformat_minor": 5
}
