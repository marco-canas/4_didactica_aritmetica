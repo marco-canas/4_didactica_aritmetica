{
 "cells": [
  {
   "cell_type": "markdown",
   "id": "529038ef",
   "metadata": {
    "slideshow": {
     "slide_type": "slide"
    }
   },
   "source": [
    "<table align=\"left\">\n",
    "  <td>\n",
    "    <a href=\"https://colab.research.google.com/github/marco-canas/4_didactica_aritmetica/blob/main/classes/3_class_feb_16_%20clases%20modulares_codificar/3_class_feb_16_clases_modulares_codificacion.ipynb\" target=\"_parent\"><img src=\"https://colab.research.google.com/assets/colab-badge.svg\" alt=\"Open In Colab\"/></a>\n",
    "  </td>\n",
    "</table>"
   ]
  },
  {
   "cell_type": "markdown",
   "id": "ebc19d74",
   "metadata": {
    "slideshow": {
     "slide_type": "slide"
    }
   },
   "source": [
    "## [Video de apoyo a la lectura interactiva y experimental]()"
   ]
  },
  {
   "cell_type": "markdown",
   "id": "2829e0e5",
   "metadata": {
    "slideshow": {
     "slide_type": "slide"
    }
   },
   "source": [
    "# Clase 3 de Seminario de aritmética 16 de febrero de 2023 Jueves"
   ]
  },
  {
   "cell_type": "markdown",
   "id": "e0de439d",
   "metadata": {
    "slideshow": {
     "slide_type": "slide"
    }
   },
   "source": [
    "## Repasemos"
   ]
  },
  {
   "cell_type": "markdown",
   "id": "15931380",
   "metadata": {
    "slideshow": {
     "slide_type": "slide"
    }
   },
   "source": [
    "### Un parrafo de Obando"
   ]
  },
  {
   "cell_type": "markdown",
   "id": "f47eb3ab",
   "metadata": {
    "slideshow": {
     "slide_type": "slide"
    }
   },
   "source": [
    "En los últimos veinte o treinta años se ha construido una amplia base crítica a la perspectiva curricular tradicional, fundamentada en los procesos de enseñanza y que toma como punto de partida el conocimiento matemático formal, para luego de ser enseñado por el profesor y, aprendido por el alumno, aplicarlo en la solución de diferentes tipos de problemas. Paralelo a estas críticas se han desarrollado propuestas curriculares alternativas que centran su atención no tanto en la enseñanza como en el aprendizaje. Una de ellas es el tratamiento curricular basado en las situaciones problema. Desde esta perspectiva se logra potenciar el trabajo autónomo del alumno, y por ende, desarrollar procesos de aprendizaje más significativos. Pero una perspectiva curricular en tal sentido implica transformar de las prácticas de maestros y alumnos, e incluso, la visión misma sobre el conocimiento matemático. En el presente artículo se muestran elementos teóricos del diseño de situaciones problema para la contextualización de la clase de matemáticas."
   ]
  },
  {
   "cell_type": "markdown",
   "id": "8ac1aa9d",
   "metadata": {},
   "source": [
    "## opiniones de los estudiantes "
   ]
  },
  {
   "cell_type": "markdown",
   "id": "b3eb91e5",
   "metadata": {
    "slideshow": {
     "slide_type": "slide"
    }
   },
   "source": [
    "* La enseñanza a partir de situaciones problemas es necesaria en educación básica primaria \n",
    "* Y es secundaria la enseñanza a partit de situaciones problema va de acuerdo a la corriente pedagógica constructivista, en la que pasamos de la situación real a la construcción de conceptos abstractos."
   ]
  },
  {
   "cell_type": "markdown",
   "id": "0c0934e0",
   "metadata": {
    "slideshow": {
     "slide_type": "slide"
    }
   },
   "source": [
    "### Un parrafo de Jhony Alexander Villa"
   ]
  },
  {
   "cell_type": "markdown",
   "id": "264d0a1c",
   "metadata": {},
   "source": []
  },
  {
   "cell_type": "markdown",
   "id": "c659dd17",
   "metadata": {},
   "source": [
    "# Describir el proceso de codificación y decoficación de la información con el método de sustitución"
   ]
  },
  {
   "cell_type": "markdown",
   "id": "3eba6abf",
   "metadata": {},
   "source": [
    "### Obtener el alfabeto en mayusculas"
   ]
  },
  {
   "cell_type": "code",
   "execution_count": 1,
   "id": "363ba2ef",
   "metadata": {},
   "outputs": [],
   "source": [
    "import string  # Estamos creando "
   ]
  },
  {
   "cell_type": "code",
   "execution_count": 2,
   "id": "d9a8957e",
   "metadata": {},
   "outputs": [],
   "source": [
    "alfabeto = string.ascii_lowercase "
   ]
  },
  {
   "cell_type": "code",
   "execution_count": 3,
   "id": "fb473a71",
   "metadata": {},
   "outputs": [
    {
     "data": {
      "text/plain": [
       "'abcdefghijklmnopqrstuvwxyz'"
      ]
     },
     "execution_count": 3,
     "metadata": {},
     "output_type": "execute_result"
    }
   ],
   "source": [
    "alfabeto "
   ]
  },
  {
   "cell_type": "code",
   "execution_count": 4,
   "id": "139d020b",
   "metadata": {},
   "outputs": [
    {
     "data": {
      "text/plain": [
       "'abcdefghijklmnopqrstuvwxyzABCDEFGHIJKLMNOPQRSTUVWXYZ'"
      ]
     },
     "execution_count": 4,
     "metadata": {},
     "output_type": "execute_result"
    }
   ],
   "source": [
    "string.ascii_letters"
   ]
  },
  {
   "cell_type": "markdown",
   "id": "2338a29f",
   "metadata": {},
   "source": [
    "## Creemos junto la función codificadora"
   ]
  },
  {
   "cell_type": "markdown",
   "id": "0230faa4",
   "metadata": {
    "slideshow": {
     "slide_type": "slide"
    }
   },
   "source": [
    "Esso significa según nosotros es crear un diccionaria cuyas claves sean las letras del alfabeto y cuyos valores o significados sean las letras correcpondientes con las que queremos codificar. \n",
    "\n"
   ]
  },
  {
   "cell_type": "code",
   "execution_count": 10,
   "id": "e7219775",
   "metadata": {
    "slideshow": {
     "slide_type": "slide"
    }
   },
   "outputs": [],
   "source": [
    "funcion_codificadora = {} # creo un diccionario vacío para llevarlo ahorita\n",
    "for n in range(len(alfabeto)):\n",
    "    funcion_codificadora[alfabeto[n%len(alfabeto)]] = alfabeto[(n+1)%len(alfabeto)]"
   ]
  },
  {
   "cell_type": "code",
   "execution_count": 11,
   "id": "16d665e5",
   "metadata": {},
   "outputs": [
    {
     "data": {
      "text/plain": [
       "{'a': 'b',\n",
       " 'b': 'c',\n",
       " 'c': 'd',\n",
       " 'd': 'e',\n",
       " 'e': 'f',\n",
       " 'f': 'g',\n",
       " 'g': 'h',\n",
       " 'h': 'i',\n",
       " 'i': 'j',\n",
       " 'j': 'k',\n",
       " 'k': 'l',\n",
       " 'l': 'm',\n",
       " 'm': 'n',\n",
       " 'n': 'o',\n",
       " 'o': 'p',\n",
       " 'p': 'q',\n",
       " 'q': 'r',\n",
       " 'r': 's',\n",
       " 's': 't',\n",
       " 't': 'u',\n",
       " 'u': 'v',\n",
       " 'v': 'w',\n",
       " 'w': 'x',\n",
       " 'x': 'y',\n",
       " 'y': 'z',\n",
       " 'z': 'a'}"
      ]
     },
     "execution_count": 11,
     "metadata": {},
     "output_type": "execute_result"
    }
   ],
   "source": [
    "funcion_codificadora"
   ]
  },
  {
   "cell_type": "markdown",
   "id": "a8f18fb9",
   "metadata": {},
   "source": [
    "## Referentes "
   ]
  },
  {
   "cell_type": "markdown",
   "id": "4edcad69",
   "metadata": {},
   "source": [
    "* Obando Zapata, G. D. J., & Múnera Córdoba, J. J. (2003). Las situaciones problema como estrategia para la conceptualización matemática.https://bibliotecadigital.udea.edu.co/handle/10495/3086\n",
    "\n",
    "* WolframAlpha:  https://www.wolframalpha.com/input?i=sqrt%282%29&lang=es"
   ]
  },
  {
   "cell_type": "code",
   "execution_count": null,
   "id": "4463618e",
   "metadata": {},
   "outputs": [],
   "source": []
  }
 ],
 "metadata": {
  "celltoolbar": "Slideshow",
  "kernelspec": {
   "display_name": "Python 3 (ipykernel)",
   "language": "python",
   "name": "python3"
  },
  "language_info": {
   "codemirror_mode": {
    "name": "ipython",
    "version": 3
   },
   "file_extension": ".py",
   "mimetype": "text/x-python",
   "name": "python",
   "nbconvert_exporter": "python",
   "pygments_lexer": "ipython3",
   "version": "3.9.13"
  }
 },
 "nbformat": 4,
 "nbformat_minor": 5
}
