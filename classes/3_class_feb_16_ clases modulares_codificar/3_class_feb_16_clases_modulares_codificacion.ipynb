{
 "cells": [
  {
   "cell_type": "markdown",
   "id": "016c93a5",
   "metadata": {
    "slideshow": {
     "slide_type": "slide"
    }
   },
   "source": [
    "<table align=\"left\">\n",
    "  <td>\n",
    "    <a href=\"https://colab.research.google.com/github/marco-canas/4_didactica_aritmetica/blob/main/classes/3_class_feb_16_%20clases%20modulares_codificar/3_class_feb_16_clases_modulares_codificacion.ipynb\" target=\"_parent\"><img src=\"https://colab.research.google.com/assets/colab-badge.svg\" alt=\"Open In Colab\"/></a>\n",
    "  </td>\n",
    "</table>"
   ]
  },
  {
   "cell_type": "markdown",
   "id": "1ca86f49",
   "metadata": {
    "slideshow": {
     "slide_type": "slide"
    }
   },
   "source": [
    "## [Video de apoyo a la lectura interactiva y experimental]()"
   ]
  },
  {
   "cell_type": "markdown",
   "id": "ea2a2733",
   "metadata": {
    "slideshow": {
     "slide_type": "slide"
    }
   },
   "source": [
    "# Clase 3 de Seminario de aritmética 16 de febrero de 2023 Jueves"
   ]
  },
  {
   "cell_type": "markdown",
   "id": "1547b785",
   "metadata": {
    "slideshow": {
     "slide_type": "slide"
    }
   },
   "source": [
    "## Repasemos"
   ]
  },
  {
   "cell_type": "markdown",
   "id": "92de49a7",
   "metadata": {
    "slideshow": {
     "slide_type": "slide"
    }
   },
   "source": [
    "### Un parrafo de Obando"
   ]
  },
  {
   "cell_type": "markdown",
   "id": "3cfe20bd",
   "metadata": {
    "slideshow": {
     "slide_type": "slide"
    }
   },
   "source": [
    "En los últimos veinte o treinta años se ha construido una amplia base crítica a la perspectiva curricular tradicional, fundamentada en los procesos de enseñanza y que toma como punto de partida el conocimiento matemático formal, para luego de ser enseñado por el profesor y, aprendido por el alumno, aplicarlo en la solución de diferentes tipos de problemas. Paralelo a estas críticas se han desarrollado propuestas curriculares alternativas que centran su atención no tanto en la enseñanza como en el aprendizaje. Una de ellas es el tratamiento curricular basado en las situaciones problema. Desde esta perspectiva se logra potenciar el trabajo autónomo del alumno, y por ende, desarrollar procesos de aprendizaje más significativos. Pero una perspectiva curricular en tal sentido implica transformar de las prácticas de maestros y alumnos, e incluso, la visión misma sobre el conocimiento matemático. En el presente artículo se muestran elementos teóricos del diseño de situaciones problema para la contextualización de la clase de matemáticas."
   ]
  },
  {
   "cell_type": "markdown",
   "id": "2377690f",
   "metadata": {
    "slideshow": {
     "slide_type": "slide"
    }
   },
   "source": [
    "## opiniones de los estudiantes "
   ]
  },
  {
   "cell_type": "markdown",
   "id": "9e214606",
   "metadata": {
    "slideshow": {
     "slide_type": "slide"
    }
   },
   "source": [
    "* La enseñanza a partir de situaciones problemas es necesaria en educación básica primaria \n",
    "* Y es secundaria la enseñanza a partit de situaciones problema va de acuerdo a la corriente pedagógica constructivista, en la que pasamos de la situación real a la construcción de conceptos abstractos."
   ]
  },
  {
   "cell_type": "markdown",
   "id": "223ab2e3",
   "metadata": {
    "slideshow": {
     "slide_type": "slide"
    }
   },
   "source": [
    "### Un parrafo de Jhony Alexander Villa"
   ]
  },
  {
   "cell_type": "markdown",
   "id": "e502d1cc",
   "metadata": {
    "slideshow": {
     "slide_type": "slide"
    }
   },
   "source": []
  },
  {
   "cell_type": "markdown",
   "id": "62be8c9f",
   "metadata": {
    "slideshow": {
     "slide_type": "slide"
    }
   },
   "source": [
    "# Describir el proceso de codificación y decoficación de la información con el método de sustitución"
   ]
  },
  {
   "cell_type": "markdown",
   "id": "43c8d7a2",
   "metadata": {},
   "source": [
    "### Obtener el alfabeto en mayusculas"
   ]
  },
  {
   "cell_type": "code",
   "execution_count": 3,
   "id": "247cab45",
   "metadata": {
    "slideshow": {
     "slide_type": "slide"
    }
   },
   "outputs": [],
   "source": [
    "import string  # Estamos creando "
   ]
  },
  {
   "cell_type": "code",
   "execution_count": 4,
   "id": "5cd6f821",
   "metadata": {},
   "outputs": [],
   "source": [
    "alfabeto = string.ascii_lowercase "
   ]
  },
  {
   "cell_type": "code",
   "execution_count": 5,
   "id": "197e2f13",
   "metadata": {},
   "outputs": [
    {
     "data": {
      "text/plain": [
       "'abcdefghijklmnopqrstuvwxyz'"
      ]
     },
     "execution_count": 5,
     "metadata": {},
     "output_type": "execute_result"
    }
   ],
   "source": [
    "alfabeto "
   ]
  },
  {
   "cell_type": "code",
   "execution_count": 6,
   "id": "7e0fd8b0",
   "metadata": {},
   "outputs": [
    {
     "data": {
      "text/plain": [
       "'abcdefghijklmnopqrstuvwxyzABCDEFGHIJKLMNOPQRSTUVWXYZ'"
      ]
     },
     "execution_count": 6,
     "metadata": {},
     "output_type": "execute_result"
    }
   ],
   "source": [
    "string.ascii_letters"
   ]
  },
  {
   "cell_type": "markdown",
   "id": "7a376a38",
   "metadata": {
    "slideshow": {
     "slide_type": "slide"
    }
   },
   "source": [
    "## Creemos junto la función codificadora"
   ]
  },
  {
   "cell_type": "markdown",
   "id": "ff75fe91",
   "metadata": {
    "slideshow": {
     "slide_type": "slide"
    }
   },
   "source": [
    "Esso significa según nosotros es crear un diccionaria cuyas claves sean las letras del alfabeto y cuyos valores o significados sean las letras correcpondientes con las que queremos codificar. \n",
    "\n"
   ]
  },
  {
   "cell_type": "code",
   "execution_count": 7,
   "id": "de246128",
   "metadata": {
    "slideshow": {
     "slide_type": "slide"
    }
   },
   "outputs": [],
   "source": [
    "funcion_codificadora = {} # creo un diccionario vacío para llevarlo ahorita\n",
    "for n in range(len(alfabeto)):\n",
    "    funcion_codificadora[alfabeto[n%len(alfabeto)]] = alfabeto[(n+1)%len(alfabeto)]"
   ]
  },
  {
   "cell_type": "code",
   "execution_count": 8,
   "id": "2b2bf031",
   "metadata": {
    "slideshow": {
     "slide_type": "slide"
    }
   },
   "outputs": [
    {
     "data": {
      "text/plain": [
       "{'a': 'b',\n",
       " 'b': 'c',\n",
       " 'c': 'd',\n",
       " 'd': 'e',\n",
       " 'e': 'f',\n",
       " 'f': 'g',\n",
       " 'g': 'h',\n",
       " 'h': 'i',\n",
       " 'i': 'j',\n",
       " 'j': 'k',\n",
       " 'k': 'l',\n",
       " 'l': 'm',\n",
       " 'm': 'n',\n",
       " 'n': 'o',\n",
       " 'o': 'p',\n",
       " 'p': 'q',\n",
       " 'q': 'r',\n",
       " 'r': 's',\n",
       " 's': 't',\n",
       " 't': 'u',\n",
       " 'u': 'v',\n",
       " 'v': 'w',\n",
       " 'w': 'x',\n",
       " 'x': 'y',\n",
       " 'y': 'z',\n",
       " 'z': 'a'}"
      ]
     },
     "execution_count": 8,
     "metadata": {},
     "output_type": "execute_result"
    }
   ],
   "source": [
    "funcion_codificadora # que interesante, un diccionario de python que define una función codificadora"
   ]
  },
  {
   "cell_type": "markdown",
   "id": "c1014dce",
   "metadata": {
    "slideshow": {
     "slide_type": "slide"
    }
   },
   "source": [
    "## Referentes "
   ]
  },
  {
   "cell_type": "markdown",
   "id": "9d279c71",
   "metadata": {
    "slideshow": {
     "slide_type": "slide"
    }
   },
   "source": [
    "* Obando Zapata, G. D. J., & Múnera Córdoba, J. J. (2003). Las situaciones problema como estrategia para la conceptualización matemática.https://bibliotecadigital.udea.edu.co/handle/10495/3086  \n",
    "\n",
    "* Jhony Alexander Villa Ochoa: Computational Thinking in Mathematical Modeling Projects. A Case Study with Future Mathematics Teachers: https://jhonyvilla.wordpress.com/  \n",
    "\n",
    "* WolframAlpha:  https://www.wolframalpha.com/input?i=sqrt%282%29&lang=es"
   ]
  },
  {
   "cell_type": "code",
   "execution_count": null,
   "id": "5c6fd097",
   "metadata": {},
   "outputs": [],
   "source": []
  }
 ],
 "metadata": {
  "celltoolbar": "Slideshow",
  "kernelspec": {
   "display_name": "Python 3 (ipykernel)",
   "language": "python",
   "name": "python3"
  },
  "language_info": {
   "codemirror_mode": {
    "name": "ipython",
    "version": 3
   },
   "file_extension": ".py",
   "mimetype": "text/x-python",
   "name": "python",
   "nbconvert_exporter": "python",
   "pygments_lexer": "ipython3",
   "version": "3.9.13"
  }
 },
 "nbformat": 4,
 "nbformat_minor": 5
}
