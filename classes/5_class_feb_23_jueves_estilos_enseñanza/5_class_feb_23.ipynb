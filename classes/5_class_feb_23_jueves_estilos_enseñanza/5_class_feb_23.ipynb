{
 "cells": [
  {
   "cell_type": "markdown",
   "id": "c7e4ceaf",
   "metadata": {
    "slideshow": {
     "slide_type": "slide"
    }
   },
   "source": [
    "<table align=\"left\">\n",
    "  <td>\n",
    "    <a href=\"https://colab.research.google.com/github/marco-canas/4_didactica_aritmetica/blob/main/classes/5_class_feb_23_jueves_estilos_ense%C3%B1anza/5_class_feb_23.ipynb\" target=\"_parent\"><img src=\"https://colab.research.google.com/assets/colab-badge.svg\" alt=\"Open In Colab\"/></a>\n",
    "  </td>\n",
    "</table>"
   ]
  },
  {
   "cell_type": "markdown",
   "id": "fcc4ae63",
   "metadata": {
    "slideshow": {
     "slide_type": "slide"
    }
   },
   "source": [
    "## [Video de apoyo sobre estilos de enseñanza]()"
   ]
  },
  {
   "cell_type": "markdown",
   "id": "74760812",
   "metadata": {
    "slideshow": {
     "slide_type": "slide"
    }
   },
   "source": [
    "# Clase 5 del 23 de febrero de 2023\n",
    "\n",
    "Modelo pedagógico que sustenta estos cuadernos y videos de apoyo. Aula invertiva o Pegagogía invertida. "
   ]
  },
  {
   "cell_type": "markdown",
   "id": "bee885d9",
   "metadata": {
    "slideshow": {
     "slide_type": "slide"
    }
   },
   "source": [
    "## Agenda\n",
    "\n",
    "* Presentación de algunos estilos de enseñanza según [Paulo Emilio Oviedo](https://ciencia.lasalle.edu.co/cgi/viewcontent.cgi?article=1064&context=ap#:~:text=Los%20estilos%20de%20ense%C3%B1anza%20han%20sido%20conceptualizados%20en,Concepci%C3%B3n%20que%20ha%20sido%20fundamentada%20desde%20diversos%20autores.)\n",
    "\n",
    "* presentación del método de sustitución con uno de los estilos de enseñanza de Paulo Emilio Oviedo. \n",
    "\n"
   ]
  },
  {
   "cell_type": "markdown",
   "id": "e8c678e6",
   "metadata": {
    "slideshow": {
     "slide_type": "slide"
    }
   },
   "source": [
    "## Estilos de enseñanza"
   ]
  },
  {
   "cell_type": "markdown",
   "id": "a397b627",
   "metadata": {
    "slideshow": {
     "slide_type": "slide"
    }
   },
   "source": []
  },
  {
   "cell_type": "markdown",
   "id": "08ff4efe",
   "metadata": {
    "slideshow": {
     "slide_type": "slide"
    }
   },
   "source": [
    "## El método de sustitución"
   ]
  },
  {
   "cell_type": "code",
   "execution_count": 1,
   "id": "d77fc5f9",
   "metadata": {
    "slideshow": {
     "slide_type": "slide"
    }
   },
   "outputs": [],
   "source": [
    "import string\n",
    "\n",
    "def create_shift_substitutions(n):\n",
    "    encoding = {}\n",
    "    decoding = {}\n",
    "    alphabet_size = len(string.ascii_uppercase)\n",
    "    for i in range(alphabet_size):\n",
    "        letter = string.ascii_uppercase[i]\n",
    "        subst_letter = string.ascii_uppercase[(i+n)%alphabet_size]\n",
    "\n",
    "        encoding[letter] = subst_letter\n",
    "        decoding[subst_letter] = letter\n",
    "    return encoding, decoding"
   ]
  },
  {
   "cell_type": "code",
   "execution_count": 3,
   "id": "bc0e846c",
   "metadata": {
    "slideshow": {
     "slide_type": "slide"
    }
   },
   "outputs": [
    {
     "data": {
      "text/plain": [
       "{'A': 'B',\n",
       " 'B': 'C',\n",
       " 'C': 'D',\n",
       " 'D': 'E',\n",
       " 'E': 'F',\n",
       " 'F': 'G',\n",
       " 'G': 'H',\n",
       " 'H': 'I',\n",
       " 'I': 'J',\n",
       " 'J': 'K',\n",
       " 'K': 'L',\n",
       " 'L': 'M',\n",
       " 'M': 'N',\n",
       " 'N': 'O',\n",
       " 'O': 'P',\n",
       " 'P': 'Q',\n",
       " 'Q': 'R',\n",
       " 'R': 'S',\n",
       " 'S': 'T',\n",
       " 'T': 'U',\n",
       " 'U': 'V',\n",
       " 'V': 'W',\n",
       " 'W': 'X',\n",
       " 'X': 'Y',\n",
       " 'Y': 'Z',\n",
       " 'Z': 'A'}"
      ]
     },
     "execution_count": 3,
     "metadata": {},
     "output_type": "execute_result"
    }
   ],
   "source": [
    "create_shift_substitutions(n = 1)[0]"
   ]
  },
  {
   "cell_type": "code",
   "execution_count": 4,
   "id": "6d4d3008",
   "metadata": {
    "slideshow": {
     "slide_type": "slide"
    }
   },
   "outputs": [],
   "source": [
    "def encode(message, subst):\n",
    "    cipher = \"\"\n",
    "    for letter in message:\n",
    "        if letter in subst:\n",
    "            cipher += subst[letter]\n",
    "        else:\n",
    "            cipher += letter\n",
    "    return cipher"
   ]
  },
  {
   "cell_type": "code",
   "execution_count": 5,
   "id": "bd60b9aa",
   "metadata": {
    "slideshow": {
     "slide_type": "slide"
    }
   },
   "outputs": [],
   "source": [
    "def decode(message, subst):\n",
    "    return encode(message, subst)"
   ]
  },
  {
   "cell_type": "code",
   "execution_count": null,
   "id": "0b869b58",
   "metadata": {
    "slideshow": {
     "slide_type": "slide"
    }
   },
   "outputs": [],
   "source": []
  },
  {
   "cell_type": "code",
   "execution_count": null,
   "id": "b1e7571a",
   "metadata": {
    "slideshow": {
     "slide_type": "slide"
    }
   },
   "outputs": [],
   "source": []
  },
  {
   "cell_type": "code",
   "execution_count": null,
   "id": "b9c4f95b",
   "metadata": {
    "slideshow": {
     "slide_type": "slide"
    }
   },
   "outputs": [],
   "source": []
  },
  {
   "cell_type": "markdown",
   "id": "541aede8",
   "metadata": {
    "slideshow": {
     "slide_type": "slide"
    }
   },
   "source": [
    "### Recomendaciones para los docentes\n",
    "\n",
    "Tratemos de teorizar nuestra práctica de enseñanza. "
   ]
  },
  {
   "cell_type": "markdown",
   "id": "a1325502",
   "metadata": {
    "slideshow": {
     "slide_type": "slide"
    }
   },
   "source": [
    "## Tareas de fijación de conceptos y adquisición de habilidades  \n",
    "\n"
   ]
  },
  {
   "cell_type": "code",
   "execution_count": null,
   "id": "fdf806bc",
   "metadata": {
    "slideshow": {
     "slide_type": "slide"
    }
   },
   "outputs": [],
   "source": []
  },
  {
   "cell_type": "markdown",
   "id": "e9aa32d7",
   "metadata": {
    "slideshow": {
     "slide_type": "slide"
    }
   },
   "source": [
    "## Evaluación de eprendizajes (Posibles ejercicios y problemas de parcial o quiz)"
   ]
  },
  {
   "cell_type": "code",
   "execution_count": null,
   "id": "cd6c74c7",
   "metadata": {
    "slideshow": {
     "slide_type": "slide"
    }
   },
   "outputs": [],
   "source": []
  },
  {
   "cell_type": "markdown",
   "id": "7bd54f3c",
   "metadata": {
    "slideshow": {
     "slide_type": "slide"
    }
   },
   "source": [
    "## Referentes"
   ]
  },
  {
   "cell_type": "markdown",
   "id": "f33121c4",
   "metadata": {
    "slideshow": {
     "slide_type": "slide"
    }
   },
   "source": [
    "* Paulo Emilio Oviedo. Universidad de La Salle, poviedo@unisalle.edu.co. Estilos de enseñanza y estilos de aprendizaje: implicaciones para la educación por ciclos. \n",
    "\n",
    "* la inteligencia artificial chatGPT: https://openai.com/blog/chatgpt/"
   ]
  },
  {
   "cell_type": "markdown",
   "id": "a88b2bfc",
   "metadata": {
    "slideshow": {
     "slide_type": "slide"
    }
   },
   "source": [
    "### [Continue su estudio en didáctica de la aritmética con la clase 6 aquí]()"
   ]
  },
  {
   "cell_type": "code",
   "execution_count": null,
   "id": "7b73a14f",
   "metadata": {},
   "outputs": [],
   "source": []
  }
 ],
 "metadata": {
  "celltoolbar": "Slideshow",
  "kernelspec": {
   "display_name": "Python 3 (ipykernel)",
   "language": "python",
   "name": "python3"
  },
  "language_info": {
   "codemirror_mode": {
    "name": "ipython",
    "version": 3
   },
   "file_extension": ".py",
   "mimetype": "text/x-python",
   "name": "python",
   "nbconvert_exporter": "python",
   "pygments_lexer": "ipython3",
   "version": "3.9.13"
  },
  "rise": {
   "enable_chalkboard": true,
   "theme": "sky"
  }
 },
 "nbformat": 4,
 "nbformat_minor": 5
}
