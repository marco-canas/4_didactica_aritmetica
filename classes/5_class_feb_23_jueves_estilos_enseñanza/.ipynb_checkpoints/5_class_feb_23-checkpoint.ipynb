{
 "cells": [
  {
   "cell_type": "markdown",
   "id": "c7e4ceaf",
   "metadata": {
    "slideshow": {
     "slide_type": "slide"
    }
   },
   "source": [
    "<table align=\"left\">\n",
    "  <td>\n",
    "    <a href=\"https://colab.research.google.com/github/marco-canas/4_didactica_aritmetica/blob/main/classes/4_class_21_feb_martes_jugar_codificando_y_decodificando/4_class_feb_21_jugar_codificando_decodificando.ipynb\" target=\"_parent\"><img src=\"https://colab.research.google.com/assets/colab-badge.svg\" alt=\"Open In Colab\"/></a>\n",
    "  </td>\n",
    "</table>"
   ]
  },
  {
   "cell_type": "markdown",
   "id": "fcc4ae63",
   "metadata": {
    "slideshow": {
     "slide_type": "slide"
    }
   },
   "source": [
    "## [Video de apoyo sobre estilos de enseñanza]()"
   ]
  },
  {
   "cell_type": "markdown",
   "id": "74760812",
   "metadata": {
    "slideshow": {
     "slide_type": "slide"
    }
   },
   "source": [
    "# Clase 5 del 23 de febrero de 2023"
   ]
  },
  {
   "cell_type": "markdown",
   "id": "77336944",
   "metadata": {
    "slideshow": {
     "slide_type": "slide"
    }
   },
   "source": [
    "## Agenda\n",
    "\n",
    "* Presentación de algunos estilos de enseñanza según [Paulo Emilio Oviedo](https://ciencia.lasalle.edu.co/cgi/viewcontent.cgi?article=1064&context=ap#:~:text=Los%20estilos%20de%20ense%C3%B1anza%20han%20sido%20conceptualizados%20en,Concepci%C3%B3n%20que%20ha%20sido%20fundamentada%20desde%20diversos%20autores.)\n",
    "\n",
    "* presentación del método de sustitución con uno de los estilos de enseñanza de Paulo Emilio Oviedo. \n",
    "\n"
   ]
  },
  {
   "cell_type": "markdown",
   "id": "9189fe75",
   "metadata": {
    "slideshow": {
     "slide_type": "slide"
    }
   },
   "source": [
    "## Estilos de enseñanza"
   ]
  },
  {
   "cell_type": "code",
   "execution_count": null,
   "id": "42895417",
   "metadata": {
    "slideshow": {
     "slide_type": "slide"
    }
   },
   "outputs": [],
   "source": []
  },
  {
   "cell_type": "markdown",
   "id": "153e147a",
   "metadata": {
    "slideshow": {
     "slide_type": "slide"
    }
   },
   "source": [
    "## El método de sustitución"
   ]
  },
  {
   "cell_type": "code",
   "execution_count": null,
   "id": "f1f4e162",
   "metadata": {
    "slideshow": {
     "slide_type": "slide"
    }
   },
   "outputs": [],
   "source": [
    "import string\n",
    "\n",
    "def create_shift_substitutions(n):\n",
    "    encoding = {}\n",
    "    decoding = {}\n",
    "    alphabet_size = len(string.ascii_uppercase)\n",
    " 9 for i in range(alphabet_size):\n",
    "10 letter = string.ascii_uppercase[i]\n",
    "11 subst_letter = string.ascii_uppercase[(i+n)%alphabet_size]\n",
    "12\n",
    "13 encoding[letter] = subst_letter\n",
    "14 decoding[subst_letter] = letter\n",
    "    return encoding, decoding"
   ]
  },
  {
   "cell_type": "markdown",
   "id": "e098cbed",
   "metadata": {
    "slideshow": {
     "slide_type": "slide"
    }
   },
   "source": [
    "## Tareas de fijación de conceptos y adquisición de habilidades  \n",
    "\n"
   ]
  },
  {
   "cell_type": "code",
   "execution_count": null,
   "id": "fdf806bc",
   "metadata": {
    "slideshow": {
     "slide_type": "slide"
    }
   },
   "outputs": [],
   "source": []
  },
  {
   "cell_type": "markdown",
   "id": "bf3ea062",
   "metadata": {},
   "source": [
    "## Evaluación de eprendizajes (Posibles ejercicios y problemas de parcial o quiz)"
   ]
  },
  {
   "cell_type": "code",
   "execution_count": null,
   "id": "cd6c74c7",
   "metadata": {
    "slideshow": {
     "slide_type": "slide"
    }
   },
   "outputs": [],
   "source": []
  },
  {
   "cell_type": "markdown",
   "id": "eaa059e1",
   "metadata": {
    "slideshow": {
     "slide_type": "slide"
    }
   },
   "source": [
    "## Referentes"
   ]
  },
  {
   "cell_type": "markdown",
   "id": "1a7bde68",
   "metadata": {
    "slideshow": {
     "slide_type": "slide"
    }
   },
   "source": [
    "* Paulo Emilio Oviedo. Universidad de La Salle, poviedo@unisalle.edu.co. Estilos de enseñanza y estilos de aprendizaje: implicaciones para la educación por ciclos. \n",
    "\n",
    "* la inteligencia artificial chatGPT: https://openai.com/blog/chatgpt/"
   ]
  },
  {
   "cell_type": "markdown",
   "id": "931e318e",
   "metadata": {
    "slideshow": {
     "slide_type": "slide"
    }
   },
   "source": [
    "### [Continue su estudio en didáctica de la aritmética con la clase 6 aquí]()"
   ]
  },
  {
   "cell_type": "code",
   "execution_count": null,
   "id": "89508c68",
   "metadata": {},
   "outputs": [],
   "source": []
  }
 ],
 "metadata": {
  "celltoolbar": "Slideshow",
  "kernelspec": {
   "display_name": "Python 3 (ipykernel)",
   "language": "python",
   "name": "python3"
  },
  "language_info": {
   "codemirror_mode": {
    "name": "ipython",
    "version": 3
   },
   "file_extension": ".py",
   "mimetype": "text/x-python",
   "name": "python",
   "nbconvert_exporter": "python",
   "pygments_lexer": "ipython3",
   "version": "3.9.13"
  },
  "rise": {
   "enable_chalkboard": true,
   "theme": "sky"
  }
 },
 "nbformat": 4,
 "nbformat_minor": 5
}
