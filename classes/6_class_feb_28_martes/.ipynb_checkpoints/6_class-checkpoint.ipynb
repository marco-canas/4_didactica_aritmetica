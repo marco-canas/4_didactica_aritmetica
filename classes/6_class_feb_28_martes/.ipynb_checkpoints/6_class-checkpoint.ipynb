{
 "cells": [
  {
   "cell_type": "markdown",
   "id": "39469a9f",
   "metadata": {},
   "source": [
    "<table align=\"left\">\n",
    "  <td>\n",
    "    <a href=\"https://colab.research.google.com/github/marco-canas/4_didactica_aritmetica/blob/main/classes/5_class_feb_23_jueves_estilos_ense%C3%B1anza/5_class_feb_23.ipynb\" target=\"_parent\"><img src=\"https://colab.research.google.com/assets/colab-badge.svg\" alt=\"Open In Colab\"/></a>\n",
    "  </td>\n",
    "</table>"
   ]
  },
  {
   "cell_type": "markdown",
   "id": "3610152a",
   "metadata": {},
   "source": []
  },
  {
   "cell_type": "markdown",
   "id": "1c9323b5",
   "metadata": {},
   "source": [
    "## [Aula invertida](https://www3.gobiernodecanarias.org/medusa/ecoescuela/pedagotic/aprendizaje-invertido-flipped-classroom/) "
   ]
  },
  {
   "cell_type": "markdown",
   "id": "0a6fd162",
   "metadata": {},
   "source": [
    "## Enseñar aritmética. Especificamente el concepto de Congruencias en los enteros. "
   ]
  },
  {
   "cell_type": "markdown",
   "id": "5be47f5c",
   "metadata": {},
   "source": [
    "Enseñemoslo a partir de situaciones problemáticas ([Gilberto Obando](https://udeaeduco-my.sharepoint.com/:b:/g/personal/marco_canas_udea_edu_co/ETDikm-lVl1Or8XoEo9oyh0BEti9Zs8le-f0D-dBdtZmbA?e=M7yD2o))"
   ]
  },
  {
   "cell_type": "code",
   "execution_count": null,
   "id": "34715d68",
   "metadata": {},
   "outputs": [],
   "source": []
  },
  {
   "cell_type": "code",
   "execution_count": null,
   "id": "662cd935",
   "metadata": {},
   "outputs": [],
   "source": []
  },
  {
   "cell_type": "code",
   "execution_count": null,
   "id": "09db442b",
   "metadata": {},
   "outputs": [],
   "source": []
  },
  {
   "cell_type": "code",
   "execution_count": null,
   "id": "bb6a53f4",
   "metadata": {},
   "outputs": [],
   "source": []
  },
  {
   "cell_type": "markdown",
   "id": "337c9fa6",
   "metadata": {},
   "source": [
    "## Tareas para realizar en clase "
   ]
  },
  {
   "cell_type": "code",
   "execution_count": null,
   "id": "2ddd7d7c",
   "metadata": {},
   "outputs": [],
   "source": []
  },
  {
   "cell_type": "markdown",
   "id": "86f2e006",
   "metadata": {},
   "source": [
    "## Tareas para realizar fuera de clase "
   ]
  },
  {
   "cell_type": "code",
   "execution_count": null,
   "id": "2a829f3b",
   "metadata": {},
   "outputs": [],
   "source": []
  },
  {
   "cell_type": "markdown",
   "id": "0978c820",
   "metadata": {},
   "source": [
    "## Evaluación (Puntos tipo quiz o pacial)"
   ]
  },
  {
   "cell_type": "code",
   "execution_count": null,
   "id": "d64b6a79",
   "metadata": {},
   "outputs": [],
   "source": []
  },
  {
   "cell_type": "markdown",
   "id": "9ede3976",
   "metadata": {},
   "source": [
    "## [Evaluación de la clase del profesor Marco Cañas](https://forms.office.com/Pages/ResponsePage.aspx?id=IefhmYRxjkmK_7KtTlPBwkanXIs1i1FEujpsZgO6dXpUREJPV1kxUk1JV1ozTFJIQVNIQjY5WEY3US4u)"
   ]
  },
  {
   "cell_type": "code",
   "execution_count": null,
   "id": "24da7d05",
   "metadata": {},
   "outputs": [],
   "source": []
  }
 ],
 "metadata": {
  "kernelspec": {
   "display_name": "Python 3 (ipykernel)",
   "language": "python",
   "name": "python3"
  },
  "language_info": {
   "codemirror_mode": {
    "name": "ipython",
    "version": 3
   },
   "file_extension": ".py",
   "mimetype": "text/x-python",
   "name": "python",
   "nbconvert_exporter": "python",
   "pygments_lexer": "ipython3",
   "version": "3.9.13"
  }
 },
 "nbformat": 4,
 "nbformat_minor": 5
}
