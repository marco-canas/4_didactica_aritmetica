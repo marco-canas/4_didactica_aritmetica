{
 "cells": [
  {
   "cell_type": "markdown",
   "id": "da91da09",
   "metadata": {
    "slideshow": {
     "slide_type": "slide"
    }
   },
   "source": [
    "<table align=\"left\">\n",
    "  <td>\n",
    "    <a href=\"https://colab.research.google.com/github/marco-canas/4_didactica_aritmetica/blob/main/classes/4_class_21_feb_martes_jugar_codificando_y_decodificando/4_class_feb_21_jugar_codificando_decodificando.ipynb\" target=\"_parent\"><img src=\"https://colab.research.google.com/assets/colab-badge.svg\" alt=\"Open In Colab\"/></a>\n",
    "  </td>\n",
    "</table>"
   ]
  },
  {
   "cell_type": "markdown",
   "id": "01182a52",
   "metadata": {
    "slideshow": {
     "slide_type": "slide"
    }
   },
   "source": [
    "## [Video de apoyo a la lectura interactiva y experimental de este cuaderno](https://www.youtube.com/watch?v=2TQHgArryW8)"
   ]
  },
  {
   "cell_type": "markdown",
   "id": "504777b3",
   "metadata": {
    "slideshow": {
     "slide_type": "slide"
    }
   },
   "source": [
    "# Clase 4. Febrero 21 Martes. Jugar Codificando y decodificando"
   ]
  },
  {
   "cell_type": "markdown",
   "id": "97a7d1df",
   "metadata": {
    "slideshow": {
     "slide_type": "slide"
    }
   },
   "source": [
    "## [Obando y las situaciones problemáticas como estrategias de conceptualización matemática](https://bibliotecadigital.udea.edu.co/handle/10495/3086)"
   ]
  },
  {
   "cell_type": "markdown",
   "id": "902efef1",
   "metadata": {
    "slideshow": {
     "slide_type": "slide"
    }
   },
   "source": [
    "## INTRODUCCIÓN"
   ]
  },
  {
   "cell_type": "markdown",
   "id": "60a72895",
   "metadata": {
    "slideshow": {
     "slide_type": "slide"
    }
   },
   "source": [
    "Mejorar la enseñanza y el aprendizaje de un saber como la matemática implica reorganizar el currículo de modo que éste se pueda movilizar desde una orientación metodológica participativa que integre otras alternativas diferentes a la presentación lineal y abstracta de los contenidos matemáticos. "
   ]
  },
  {
   "cell_type": "markdown",
   "id": "1567b17c",
   "metadata": {
    "slideshow": {
     "slide_type": "slide"
    }
   },
   "source": [
    "Al respecto de una intervención pedagógica desde un enfoque participativo, el profesor Orlando Mesa manifiesta:  "
   ]
  },
  {
   "cell_type": "markdown",
   "id": "d7a3f69c",
   "metadata": {
    "slideshow": {
     "slide_type": "slide"
    }
   },
   "source": [
    "Las interacciones entre el estudiante, el objeto a conocer y el docente deben ser fuertemente participativas: El estudiante deseando conocer por él mismo, anticipando respuestas, aplicando esquemas de solución, verificando procesos, confrontando resultados, buscando alternativas, planteando otros interrogantes. "
   ]
  },
  {
   "cell_type": "markdown",
   "id": "dbdd5aa4",
   "metadata": {
    "slideshow": {
     "slide_type": "slide"
    }
   },
   "source": [
    "El docente, integrando significativamente el objeto de estudio según los significados posibles para los alumnos, respetando estados lingüísticos, culturales y cognitivos de sus estudiantes, acompañando oportunamente las respuestas y las inquietudes y\n",
    "sobre todo, planteando nuevas preguntas que le permitan al estudiante descubrir contradicciones en sus respuestas o \"abrirse\" a otros interrogantes (Mesa, 1993,12)."
   ]
  },
  {
   "cell_type": "markdown",
   "id": "37453f2a",
   "metadata": {
    "slideshow": {
     "slide_type": "slide"
    }
   },
   "source": [
    "## Opiniones de los maestros en formación"
   ]
  },
  {
   "cell_type": "markdown",
   "id": "b71c0f6e",
   "metadata": {
    "slideshow": {
     "slide_type": "slide"
    }
   },
   "source": [
    "1.  Estoy muy de acuerdo con Orlando Mesa cuando afirma que las situaciones problemáticas favorecen la participación del estudiante y hacen menos abstractos los contenidos matemáticos.   \n",
    "2.  \n",
    "3.  \n"
   ]
  },
  {
   "cell_type": "markdown",
   "id": "908c0f96",
   "metadata": {
    "slideshow": {
     "slide_type": "slide"
    }
   },
   "source": [
    "# Jhony Villa Ochoa y el desarrollo del pensamiento computacional a través de la modelación"
   ]
  },
  {
   "cell_type": "markdown",
   "id": "65c4f479",
   "metadata": {
    "slideshow": {
     "slide_type": "slide"
    }
   },
   "source": [
    "Computational Thinking in Mathematical Modeling Projects. A Case Study with Future Mathematics Teachers\n",
    "\n",
    "Computational thinking has been a topic of debate in research in different STEM areas. This type of thinking is considered one of the vital skill sets for societies’ technological and scientific development. With Carmona-Mesa, Quiroz-Vallejo, Castrillon-Yepes and Farsani inquiry the computational thinking skills embedded in a mathematical modeling projects (mmp). A mmp was developed by three future math teachers who participated in a mathematical modeling course."
   ]
  },
  {
   "cell_type": "code",
   "execution_count": null,
   "id": "23b6e947",
   "metadata": {},
   "outputs": [],
   "source": []
  },
  {
   "cell_type": "markdown",
   "id": "72c41785",
   "metadata": {
    "slideshow": {
     "slide_type": "slide"
    }
   },
   "source": [
    "# Pensamiento Computacional en Proyectos de Modelado Matemático. Un estudio de caso con futuros profesores de matemáticas"
   ]
  },
  {
   "cell_type": "markdown",
   "id": "fef1ebbb",
   "metadata": {
    "slideshow": {
     "slide_type": "slide"
    }
   },
   "source": [
    "El pensamiento computacional ha sido un tema de debate en la investigación en diferentes áreas STEM. Este tipo de pensamiento se considera uno de los conjuntos de habilidades vitales para el desarrollo tecnológico y científico de las sociedades. Con Carmona-Mesa, Quiroz-Vallejo, Castrillón-Yepes y Farsani investigan las habilidades de pensamiento computacional integradas en proyectos de modelado matemático (mmp). Un mmp fue desarrollado por tres futuros profesores de matemáticas que participaron en un curso de modelado matemático."
   ]
  },
  {
   "cell_type": "markdown",
   "id": "7839595e",
   "metadata": {
    "slideshow": {
     "slide_type": "slide"
    }
   },
   "source": [
    "We analyzed students’ documents, videos, and materials made it possible to identify actions associated with decomposition, abstraction, algorithms, representation/modeling, and generalization. The components of computational thinking observed in this study show the opportunities that mathematical modeling offers to the development of computational thinking skills; however, new studies are required on the guidelines and conditions necessary for teachers to recognize the importance of the components they use and to be able to explain them to their students through mmp."
   ]
  },
  {
   "cell_type": "markdown",
   "id": "531ea49d",
   "metadata": {
    "slideshow": {
     "slide_type": "slide"
    }
   },
   "source": [
    "Analizamos documentos, videos y materiales de los estudiantes que permitieron identificar acciones asociadas con descomposición, abstracción, algoritmos, representación/modelado y generalización. Los componentes del pensamiento computacional observados en este estudio muestran las oportunidades que ofrece la modelación matemática para el desarrollo de habilidades de pensamiento computacional; sin embargo, se requieren nuevos estudios sobre las pautas y condiciones necesarias para que los docentes reconozcan la importancia de los componentes que utilizan y puedan explicárselos a sus alumnos a través del mmp."
   ]
  },
  {
   "cell_type": "markdown",
   "id": "c6d8e392",
   "metadata": {
    "slideshow": {
     "slide_type": "slide"
    }
   },
   "source": [
    "## Opiniones de los estudiantes de licenciatura en matemáticas"
   ]
  },
  {
   "cell_type": "markdown",
   "id": "492303b6",
   "metadata": {
    "slideshow": {
     "slide_type": "slide"
    }
   },
   "source": [
    "1. Proyectos de modelado matemático  desarrollan habilidades de pensamiento computacional que puede aportar al desarrollo de nuestro. \n",
    "2.  \n",
    "3.  \n"
   ]
  },
  {
   "cell_type": "markdown",
   "id": "59e467f3",
   "metadata": {
    "slideshow": {
     "slide_type": "slide"
    }
   },
   "source": [
    "# Juguemos a codificar para proteger la información\n",
    "\n",
    "[lee sobre el módulo string aquí](https://realpython.com/lessons/string-module/)"
   ]
  },
  {
   "cell_type": "code",
   "execution_count": 5,
   "id": "5727558c",
   "metadata": {
    "slideshow": {
     "slide_type": "slide"
    }
   },
   "outputs": [],
   "source": [
    "# Partial Listing: Some Assembly Required\n",
    "import string # el módulo string para manipulación de mensajes en diferentes codificaciones\n",
    "def create_shift_substitutions(n):\n",
    "    encoding = {}\n",
    "    decoding = {}\n",
    "    alphabet_size = len(string.ascii_uppercase)\n",
    "    for i in range(alphabet_size):\n",
    "        letter = string.ascii_uppercase[i]\n",
    "        subst_letter = string.ascii_uppercase[(i+n)%alphabet_size]\n",
    "\n",
    "        encoding[letter] = subst_letter\n",
    "        decoding[subst_letter] = letter\n",
    "    return encoding, decoding"
   ]
  },
  {
   "cell_type": "code",
   "execution_count": 15,
   "id": "9d175784",
   "metadata": {
    "slideshow": {
     "slide_type": "slide"
    }
   },
   "outputs": [],
   "source": [
    "dict_codificador, dict_decofificador = create_shift_substitutions(n = 25) \n",
    "# podemos entender estas dos funciones como las obtenidas al pedirle una sustitución de distancia 25"
   ]
  },
  {
   "cell_type": "markdown",
   "id": "673426f6",
   "metadata": {
    "slideshow": {
     "slide_type": "slide"
    }
   },
   "source": [
    "Observe that this function is parameterized on $n$, the shift parameter. "
   ]
  },
  {
   "cell_type": "markdown",
   "id": "d78f1b9f",
   "metadata": {
    "slideshow": {
     "slide_type": "fragment"
    }
   },
   "source": [
    "Observe que esta función está parametrizada en $n$, el parámetro de desplazamiento."
   ]
  },
  {
   "cell_type": "markdown",
   "id": "507cca95",
   "metadata": {
    "slideshow": {
     "slide_type": "slide"
    }
   },
   "source": [
    "We don’t have any error checking in this function; we will check parameters elsewhere. "
   ]
  },
  {
   "cell_type": "markdown",
   "id": "989362dd",
   "metadata": {
    "slideshow": {
     "slide_type": "fragment"
    }
   },
   "source": [
    "No tenemos ningún error al verificar esta función; comprobaremos los parámetros en otro lugar."
   ]
  },
  {
   "cell_type": "markdown",
   "id": "55be3104",
   "metadata": {
    "slideshow": {
     "slide_type": "slide"
    }
   },
   "source": [
    "Note, though, that any integer value of n is valid because Python handles negative modulus in a reasonable way. "
   ]
  },
  {
   "cell_type": "markdown",
   "id": "8f15b7dd",
   "metadata": {
    "slideshow": {
     "slide_type": "fragment"
    }
   },
   "source": [
    "Tenga en cuenta, sin embargo, que cualquier valor entero de $n$ es válido porque Python maneja el módulo negativo de una manera razonable."
   ]
  },
  {
   "cell_type": "markdown",
   "id": "9e78c717",
   "metadata": {
    "slideshow": {
     "slide_type": "slide"
    }
   },
   "source": [
    "Even the value 0 is okay: it just produces a mapping from each character to itself! "
   ]
  },
  {
   "cell_type": "markdown",
   "id": "9077adbf",
   "metadata": {
    "slideshow": {
     "slide_type": "fragment"
    }
   },
   "source": [
    "Incluso el valor 0 está bien: ¡simplemente produce una asignación de cada letra a sí misma!"
   ]
  },
  {
   "cell_type": "markdown",
   "id": "0c48f7c8",
   "metadata": {
    "slideshow": {
     "slide_type": "slide"
    }
   },
   "source": [
    "Values larger than 26 also work fine because we apply a final modulus of alphabet_size before indexing into the alphabet."
   ]
  },
  {
   "cell_type": "markdown",
   "id": "088c1149",
   "metadata": {
    "slideshow": {
     "slide_type": "fragment"
    }
   },
   "source": [
    "Los valores superiores a 26 también funcionan bien porque aplicamos un módulo final de `alphabet_size` antes de indexar en el alfabeto."
   ]
  },
  {
   "cell_type": "markdown",
   "id": "13df43d0",
   "metadata": {
    "slideshow": {
     "slide_type": "slide"
    }
   },
   "source": [
    "Now, for encoding and decoding, we simply substitute each letter in a message for one in the corresponding dictionary, shown in Listing 1-2"
   ]
  },
  {
   "cell_type": "markdown",
   "id": "3341008d",
   "metadata": {
    "slideshow": {
     "slide_type": "fragment"
    }
   },
   "source": [
    "Ahora, para codificar y decodificar, simplemente sustituimos cada letra en un mensaje por una en el diccionario correspondiente, que se muestra en el Listado 1-2"
   ]
  },
  {
   "cell_type": "code",
   "execution_count": 21,
   "id": "f76b829f",
   "metadata": {
    "slideshow": {
     "slide_type": "slide"
    }
   },
   "outputs": [],
   "source": [
    "def encode(message, subst):\n",
    "    \"\"\"\n",
    "    INPUT: \n",
    "    message: es el mensaje a protejer como un string de python\n",
    "    subst: función que hace la sustitución codificadora o protectora de mensajes\n",
    "    OUTPUT: \n",
    "    \"\"\"\n",
    "    cipher = \"\"\n",
    "    for letter in message:\n",
    "        if letter in subst:\n",
    "            cipher += subst[letter]\n",
    "        else:\n",
    "            cipher += letter\n",
    "    return cipher"
   ]
  },
  {
   "cell_type": "code",
   "execution_count": 22,
   "id": "493820bd",
   "metadata": {},
   "outputs": [
    {
     "data": {
      "text/plain": [
       "'DRSNX NQFTKKNRN CD LHR DRSTCHZMSDR CD KZ KHBDMBHZSTQZ DM LZSDLZSHBZR CD KZ RDBBHNMZK AZIN BZTBZ'"
      ]
     },
     "execution_count": 22,
     "metadata": {},
     "output_type": "execute_result"
    }
   ],
   "source": [
    "encode('ESTOY ORGULLOSO DE MIS ESTUDIANTES DE LA LICENCIATURA EN MATEMATICAS DE LA SECCIONAL BAJO CAUCA', dict_codificador )"
   ]
  },
  {
   "cell_type": "code",
   "execution_count": 23,
   "id": "68403f31",
   "metadata": {
    "slideshow": {
     "slide_type": "slide"
    }
   },
   "outputs": [],
   "source": [
    "def decode(message, subst):\n",
    "    return encode(message, subst)"
   ]
  },
  {
   "cell_type": "code",
   "execution_count": 24,
   "id": "93089897",
   "metadata": {},
   "outputs": [
    {
     "data": {
      "text/plain": [
       "'ESTOY ORGULLOSO DE MIS ESTUDIANTES DE LA LICENCIATURA EN MATEMATICAS DE LA SECCIONAL BAJO CAUCA'"
      ]
     },
     "execution_count": 24,
     "metadata": {},
     "output_type": "execute_result"
    }
   ],
   "source": [
    "decode('DRSNX NQFTKKNRN CD LHR DRSTCHZMSDR CD KZ KHBDMBHZSTQZ DM LZSDLZSHBZR CD KZ RDBBHNMZK AZIN BZTBZ',  dict_decofificador)"
   ]
  },
  {
   "cell_type": "markdown",
   "id": "05c2dd1c",
   "metadata": {
    "slideshow": {
     "slide_type": "slide"
    }
   },
   "source": [
    "# Note: Compactness vs. Clarity"
   ]
  },
  {
   "cell_type": "markdown",
   "id": "1c23c492",
   "metadata": {
    "slideshow": {
     "slide_type": "slide"
    }
   },
   "source": [
    "We tend to favor universal clarity over compactness when there is a conflict between them. "
   ]
  },
  {
   "cell_type": "markdown",
   "id": "62807519",
   "metadata": {
    "slideshow": {
     "slide_type": "slide"
    }
   },
   "source": [
    "Tendemos a favorecer la claridad universal sobre la compacidad cuando hay un conflicto entre ellos."
   ]
  },
  {
   "cell_type": "markdown",
   "id": "41fe4fe1",
   "metadata": {
    "slideshow": {
     "slide_type": "slide"
    }
   },
   "source": [
    "We will even write things in ways that might not be widely considered idiomatic if it helps to illustrate what is happening."
   ]
  },
  {
   "cell_type": "markdown",
   "id": "68b9a8cc",
   "metadata": {
    "slideshow": {
     "slide_type": "slide"
    }
   },
   "source": [
    "Incluso escribiremos cosas de maneras que podrían no ser consideradas idiomáticas si ayudan a ilustrar lo que está sucediendo."
   ]
  },
  {
   "cell_type": "markdown",
   "id": "421431e4",
   "metadata": {
    "slideshow": {
     "slide_type": "slide"
    }
   },
   "source": [
    "The code in Listing 1-2 has a nice example of favoring clarity over common idioms. "
   ]
  },
  {
   "cell_type": "markdown",
   "id": "e2165656",
   "metadata": {
    "slideshow": {
     "slide_type": "slide"
    }
   },
   "source": [
    "El código del Listado 1-2 tiene un buen ejemplo de favorecer la claridad sobre los modismos comunes."
   ]
  },
  {
   "cell_type": "markdown",
   "id": "17342212",
   "metadata": {
    "slideshow": {
     "slide_type": "slide"
    }
   },
   "source": [
    "An idiomatic function body would probably be a one-liner:"
   ]
  },
  {
   "cell_type": "markdown",
   "id": "b4a81497",
   "metadata": {
    "slideshow": {
     "slide_type": "slide"
    }
   },
   "source": [
    "Un cuerpo de función idiomática probablemente sería de una sola línea:"
   ]
  },
  {
   "cell_type": "code",
   "execution_count": 25,
   "id": "d0534a83",
   "metadata": {
    "slideshow": {
     "slide_type": "slide"
    }
   },
   "outputs": [],
   "source": [
    "def encode(message, subst):\n",
    "    \"\"\"\n",
    "    input:\n",
    "    OUTPUT: \n",
    "    \"\"\"\n",
    "    return \"\".join(subst.get(x, x) for x in message)"
   ]
  },
  {
   "cell_type": "code",
   "execution_count": 27,
   "id": "7613953b",
   "metadata": {
    "slideshow": {
     "slide_type": "slide"
    }
   },
   "outputs": [
    {
     "data": {
      "text/plain": [
       "'DRSNX NQFTKKNRN CD LHR DRSTCHZMSDR CD KHBDMBHZSTQZ DM LZSDLZSHBZR CD KZ RDBBHNMZK AZIN BZTBZ'"
      ]
     },
     "execution_count": 27,
     "metadata": {},
     "output_type": "execute_result"
    }
   ],
   "source": [
    "encode('ESTOY ORGULLOSO DE MIS ESTUDIANTES DE LICENCIATURA EN MATEMATICAS DE LA SECCIONAL BAJO CAUCA', dict_codificador)"
   ]
  },
  {
   "cell_type": "markdown",
   "id": "3f46f051",
   "metadata": {
    "slideshow": {
     "slide_type": "slide"
    }
   },
   "source": [
    "That’s a lovely bit of Python if you’re used to it, but we’re trying not to make too many assumptions here"
   ]
  },
  {
   "cell_type": "markdown",
   "id": "1ba98d93",
   "metadata": {
    "slideshow": {
     "slide_type": "fragment"
    }
   },
   "source": [
    "Eso es una parte encantadora de Python si estás acostumbrado, pero estamos tratando de no hacer demasiadas suposiciones aquí."
   ]
  },
  {
   "cell_type": "markdown",
   "id": "dcec2ad8",
   "metadata": {
    "slideshow": {
     "slide_type": "slide"
    }
   },
   "source": [
    "In our implementation, the encode function takes an incoming message and a substitution dictionary. "
   ]
  },
  {
   "cell_type": "markdown",
   "id": "5f3f9778",
   "metadata": {
    "slideshow": {
     "slide_type": "slide"
    }
   },
   "source": [
    "For each letter in the message, we replace it if a substitution is available. "
   ]
  },
  {
   "cell_type": "markdown",
   "id": "f35a0534",
   "metadata": {
    "slideshow": {
     "slide_type": "slide"
    }
   },
   "source": [
    "Otherwise, we just include the character itself with no transformation (preserving spaces and punctuation)."
   ]
  },
  {
   "cell_type": "markdown",
   "id": "aedb76e5",
   "metadata": {
    "slideshow": {
     "slide_type": "slide"
    }
   },
   "source": [
    "Obviously, the decode operation in this listing is completely unnecessary, but we \n",
    "have included it to emphasize that encoding and decoding in a substitution cipher work \n",
    "exactly the same. Only the dictionary needs to change.\n",
    "These functions are sufficient to build an application, but for fun we will add in \n",
    "another function in Listing 1-3 to take a substitution dictionary and create a string that \n",
    "shows the mapping. This will allow us to print out our different tables created from \n",
    "different shift values."
   ]
  },
  {
   "cell_type": "code",
   "execution_count": null,
   "id": "16e676fe",
   "metadata": {},
   "outputs": [],
   "source": []
  },
  {
   "cell_type": "markdown",
   "id": "b568c468",
   "metadata": {
    "slideshow": {
     "slide_type": "slide"
    }
   },
   "source": [
    "# Tarea propuesta\n",
    "\n",
    "* ¿que es factorizar?\n",
    "* ¿Cuáles son los casos de factorización?"
   ]
  },
  {
   "cell_type": "code",
   "execution_count": null,
   "id": "24239db8",
   "metadata": {
    "slideshow": {
     "slide_type": "slide"
    }
   },
   "outputs": [],
   "source": []
  },
  {
   "cell_type": "markdown",
   "id": "b552d375",
   "metadata": {
    "slideshow": {
     "slide_type": "slide"
    }
   },
   "source": [
    "## Referentes"
   ]
  },
  {
   "cell_type": "markdown",
   "id": "79e61ff5",
   "metadata": {
    "slideshow": {
     "slide_type": "slide"
    }
   },
   "source": [
    "* Obando Zapata, G. D. J., & Múnera Córdoba, J. J. (2003). Las situaciones problema como estrategia para la conceptualización matemática.https://bibliotecadigital.udea.edu.co/handle/10495/3086  \n",
    "\n",
    "* Jhony Alexander Villa Ochoa: Computational Thinking in Mathematical Modeling Projects. A Case Study with Future Mathematics Teachers: https://jhonyvilla.wordpress.com/  \n",
    "\n",
    "* WolframAlpha:  https://www.wolframalpha.com/input?i=sqrt%282%29&lang=es\n",
    "\n",
    "* Lineamiento curriculares en matemáticas (MEN 1998)\n",
    "\n"
   ]
  },
  {
   "cell_type": "code",
   "execution_count": null,
   "id": "fc761202",
   "metadata": {},
   "outputs": [],
   "source": []
  }
 ],
 "metadata": {
  "celltoolbar": "Slideshow",
  "kernelspec": {
   "display_name": "Python 3 (ipykernel)",
   "language": "python",
   "name": "python3"
  },
  "language_info": {
   "codemirror_mode": {
    "name": "ipython",
    "version": 3
   },
   "file_extension": ".py",
   "mimetype": "text/x-python",
   "name": "python",
   "nbconvert_exporter": "python",
   "pygments_lexer": "ipython3",
   "version": "3.9.13"
  }
 },
 "nbformat": 4,
 "nbformat_minor": 5
}
