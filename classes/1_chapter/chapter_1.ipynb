{
 "cells": [
  {
   "cell_type": "markdown",
   "id": "6186b73d",
   "metadata": {
    "slideshow": {
     "slide_type": "slide"
    }
   },
   "source": [
    "<table align=\"left\">\n",
    "  <td>\n",
    "    <a href=\"https://colab.research.google.com/github/marco-canas/didactica_ciencia_datos/blob/main/propuesta/unidad_didac/1_statistic/1_Basic_Descriptive_Statistics/1_medidas_tendencia_central/1_media.ipynb\" target=\"_parent\"><img src=\"https://colab.research.google.com/assets/colab-badge.svg\" alt=\"Open In Colab\"/></a>\n",
    "  </td>\n",
    "</table>"
   ]
  },
  {
   "cell_type": "markdown",
   "id": "76374ef7",
   "metadata": {
    "slideshow": {
     "slide_type": "slide"
    }
   },
   "source": [
    "## [Video de apoyo a la lectura interactiva y experimental de este cuaderno](https://www.youtube.com/watch?v=m_pzXcLrHFA)"
   ]
  },
  {
   "cell_type": "markdown",
   "id": "0ede6092",
   "metadata": {
    "slideshow": {
     "slide_type": "slide"
    }
   },
   "source": [
    "# Clase 1 Aritmética"
   ]
  },
  {
   "cell_type": "markdown",
   "id": "6e4b7b77",
   "metadata": {
    "slideshow": {
     "slide_type": "slide"
    }
   },
   "source": [
    "# Chapter 1"
   ]
  },
  {
   "cell_type": "markdown",
   "id": "ecce53df",
   "metadata": {
    "slideshow": {
     "slide_type": "slide"
    }
   },
   "source": [
    "# CAPÍTULO 1  "
   ]
  },
  {
   "cell_type": "markdown",
   "id": "b667ceae",
   "metadata": {
    "slideshow": {
     "slide_type": "slide"
    }
   },
   "source": [
    "## Cryptography: More Than Secrecy"
   ]
  },
  {
   "cell_type": "markdown",
   "id": "e8e64bef",
   "metadata": {
    "slideshow": {
     "slide_type": "subslide"
    }
   },
   "source": [
    "Criptografía: más que secreto"
   ]
  },
  {
   "cell_type": "markdown",
   "id": "942181b9",
   "metadata": {
    "slideshow": {
     "slide_type": "slide"
    }
   },
   "source": [
    "Welcome to the world of practical cryptography!   "
   ]
  },
  {
   "cell_type": "markdown",
   "id": "729edeed",
   "metadata": {
    "slideshow": {
     "slide_type": "slide"
    }
   },
   "source": [
    "¡Bienvenido al mundo de la criptografía práctica!"
   ]
  },
  {
   "cell_type": "markdown",
   "id": "672d09d5",
   "metadata": {
    "slideshow": {
     "slide_type": "slide"
    }
   },
   "source": [
    "The intent of this book is to teach you enough about cryptography that you can reason about what it does, when certain types can be effectively applied, and how to choose good strategies and algorithms. "
   ]
  },
  {
   "cell_type": "markdown",
   "id": "3c86d138",
   "metadata": {
    "slideshow": {
     "slide_type": "slide"
    }
   },
   "source": [
    "## Objetivo general:   \n",
    "\n",
    "enseñarle lo suficiente sobre criptografía para que pueda razonar sobre lo que hace, cuándo se pueden aplicar ciertos tipos de manera efectiva y cómo elegir buenas estrategias y algoritmos."
   ]
  },
  {
   "cell_type": "markdown",
   "id": "b68785f5",
   "metadata": {
    "slideshow": {
     "slide_type": "slide"
    }
   },
   "source": [
    "There are examples and exercises throughout each chapter, usually with a follow-along exercise right at the beginning to help you get your bearings.   "
   ]
  },
  {
   "cell_type": "markdown",
   "id": "7e46036e",
   "metadata": {
    "slideshow": {
     "slide_type": "slide"
    }
   },
   "source": [
    "Hay ejemplos y ejercicios a lo largo de cada capítulo, generalmente con un ejercicio de seguimiento justo al principio para ayudarlo a orientarse."
   ]
  },
  {
   "cell_type": "markdown",
   "id": "f956df73",
   "metadata": {
    "slideshow": {
     "slide_type": "slide"
    }
   },
   "source": [
    "These examples are often accompanied by some fictitious stage setting to add some context.   "
   ]
  },
  {
   "cell_type": "markdown",
   "id": "56aeebb0",
   "metadata": {
    "slideshow": {
     "slide_type": "subslide"
    }
   },
   "source": [
    "Estos ejemplos a menudo van acompañados de un escenario ficticio para agregar algo de contexto."
   ]
  },
  {
   "cell_type": "markdown",
   "id": "fb1e7950",
   "metadata": {
    "slideshow": {
     "slide_type": "slide"
    }
   },
   "source": [
    "After you’ve had some exposure and experience, the technical terms that follow those examples should make more sense and be more memorable. We hope you like it."
   ]
  },
  {
   "cell_type": "markdown",
   "id": "dae38320",
   "metadata": {
    "slideshow": {
     "slide_type": "subslide"
    }
   },
   "source": [
    "Después de haber tenido algo de exposición y experiencia, los términos técnicos que siguen a esos ejemplos deberían tener más sentido y ser más fáciles de recordar. Esperamos que os guste."
   ]
  },
  {
   "cell_type": "markdown",
   "id": "3df91632",
   "metadata": {
    "slideshow": {
     "slide_type": "slide"
    }
   },
   "source": [
    "# Setting Up Your Python Environment "
   ]
  },
  {
   "cell_type": "markdown",
   "id": "87b64df8",
   "metadata": {
    "slideshow": {
     "slide_type": "subslide"
    }
   },
   "source": [
    "# Configuración de su entorno de Python"
   ]
  },
  {
   "cell_type": "markdown",
   "id": "c0123d5c",
   "metadata": {
    "slideshow": {
     "slide_type": "slide"
    }
   },
   "source": [
    "In order to dive in, we’ll need a place to swim, and that’s a Python 3 environment.   "
   ]
  },
  {
   "cell_type": "markdown",
   "id": "5536aaec",
   "metadata": {
    "slideshow": {
     "slide_type": "subslide"
    }
   },
   "source": [
    "Para sumergirnos, necesitaremos un lugar para nadar, y ese es un entorno de Python 3."
   ]
  },
  {
   "cell_type": "markdown",
   "id": "05ca1899",
   "metadata": {
    "slideshow": {
     "slide_type": "slide"
    }
   },
   "source": [
    "If you are already a Python 3 pro and have no trouble installing modules that you discover you need, skip this section and do some actual diving.   "
   ]
  },
  {
   "cell_type": "markdown",
   "id": "bfdd48ed",
   "metadata": {
    "slideshow": {
     "slide_type": "subslide"
    }
   },
   "source": [
    "Si ya es un profesional de Python 3 y no tiene problemas para instalar los módulos que descubre que necesita, omita esta sección y haga un poco de buceo real."
   ]
  },
  {
   "cell_type": "markdown",
   "id": "1f6eaadd",
   "metadata": {
    "slideshow": {
     "slide_type": "slide"
    }
   },
   "source": [
    "Otherwise, read on, and we’ll get through the setup steps quickly.  "
   ]
  },
  {
   "cell_type": "markdown",
   "id": "194cf35c",
   "metadata": {
    "slideshow": {
     "slide_type": "subslide"
    }
   },
   "source": [
    "De lo contrario, siga leyendo y seguiremos los pasos de configuración rápidamente."
   ]
  },
  {
   "cell_type": "markdown",
   "id": "a4af3d3a",
   "metadata": {
    "slideshow": {
     "slide_type": "slide"
    }
   },
   "source": [
    "All of the examples in this book are written using Python 3 and the third-party “cryptography” module.   "
   ]
  },
  {
   "cell_type": "markdown",
   "id": "bbeb07c4",
   "metadata": {
    "slideshow": {
     "slide_type": "subslide"
    }
   },
   "source": [
    "Todos los ejemplos de este libro están escritos con Python 3 y el módulo de \"criptografía\" de terceros."
   ]
  },
  {
   "cell_type": "markdown",
   "id": "53d20f38",
   "metadata": {
    "slideshow": {
     "slide_type": "slide"
    }
   },
   "source": [
    "If you do not want to mess around with your system Python environment, we suggest creating a Python virtual environment using the venv module. "
   ]
  },
  {
   "cell_type": "markdown",
   "id": "579d6e0c",
   "metadata": {
    "slideshow": {
     "slide_type": "subslide"
    }
   },
   "source": [
    "Si no desea perder el tiempo con el entorno de Python de su sistema, le sugerimos que cree un entorno virtual de Python utilizando el módulo venv."
   ]
  },
  {
   "cell_type": "markdown",
   "id": "952c93ad",
   "metadata": {
    "slideshow": {
     "slide_type": "slide"
    }
   },
   "source": [
    "  \n",
    "\n",
    "This will configure a selected directory with a Python interpreter and associated modules. "
   ]
  },
  {
   "cell_type": "markdown",
   "id": "3f67e416",
   "metadata": {
    "slideshow": {
     "slide_type": "subslide"
    }
   },
   "source": [
    "Esto configurará un directorio seleccionado con un intérprete de Python y módulos asociados."
   ]
  },
  {
   "cell_type": "markdown",
   "id": "8f13988d",
   "metadata": {
    "slideshow": {
     "slide_type": "slide"
    }
   },
   "source": [
    "Using an “activate” script, the shell is directed to use this custom environment for Python rather than the system-wide installation. "
   ]
  },
  {
   "cell_type": "markdown",
   "id": "7e973ece",
   "metadata": {
    "slideshow": {
     "slide_type": "subslide"
    }
   },
   "source": [
    "Usando un script de \"activación\", el shell se dirige a usar este entorno personalizado para Python en lugar de la instalación en todo el sistema."
   ]
  },
  {
   "cell_type": "markdown",
   "id": "949ba4f7",
   "metadata": {
    "slideshow": {
     "slide_type": "slide"
    }
   },
   "source": [
    "Any modules you install are only locally installed."
   ]
  },
  {
   "cell_type": "markdown",
   "id": "6aeb4607",
   "metadata": {
    "slideshow": {
     "slide_type": "subslide"
    }
   },
   "source": [
    "Cualquier módulo que instale solo se instala localmente."
   ]
  },
  {
   "cell_type": "markdown",
   "id": "df87c5a5",
   "metadata": {
    "slideshow": {
     "slide_type": "slide"
    }
   },
   "source": [
    "First, we need to install Python 3, Pip, and the venv module: "
   ]
  },
  {
   "cell_type": "markdown",
   "id": "cf541862",
   "metadata": {
    "slideshow": {
     "slide_type": "subslide"
    }
   },
   "source": [
    "Primero, necesitamos instalar Python 3, Pip y el módulo venv:"
   ]
  },
  {
   "cell_type": "markdown",
   "id": "9069045f",
   "metadata": {
    "slideshow": {
     "slide_type": "slide"
    }
   },
   "source": [
    " \n",
    "\n",
    "https://www.youtube.com/watch?v=TNtrAvNNxTY"
   ]
  },
  {
   "cell_type": "markdown",
   "id": "5137dc0d",
   "metadata": {
    "slideshow": {
     "slide_type": "slide"
    }
   },
   "source": [
    "Next, we use venv to set up the environment in an env directory:  \n",
    "\n",
    "`python3 -m venv env`"
   ]
  },
  {
   "cell_type": "markdown",
   "id": "4baa2868",
   "metadata": {
    "slideshow": {
     "slide_type": "fragment"
    }
   },
   "source": [
    "A continuación, usamos venv para configurar el entorno en un directorio env:\n",
    "\n",
    "`python3 -m venv env`"
   ]
  },
  {
   "cell_type": "markdown",
   "id": "32d2d626",
   "metadata": {
    "slideshow": {
     "slide_type": "slide"
    }
   },
   "source": [
    "This will set up the interpreter and modules within the path. Once the installation is complete, the environment can be used at any time by the following command:  \n",
    "\n",
    "`source env/bin/activate`"
   ]
  },
  {
   "cell_type": "markdown",
   "id": "7dc260fe",
   "metadata": {
    "slideshow": {
     "slide_type": "slide"
    }
   },
   "source": [
    "Esto configurará el intérprete y los módulos dentro de la ruta. Una vez completada la instalación, el entorno se puede utilizar en cualquier momento con el siguiente comando:"
   ]
  },
  {
   "cell_type": "markdown",
   "id": "a44052f2",
   "metadata": {
    "slideshow": {
     "slide_type": "slide"
    }
   },
   "source": [
    "You should now see a prefix to your shell prompt with the name of your environment. "
   ]
  },
  {
   "cell_type": "markdown",
   "id": "6ca64a64",
   "metadata": {
    "slideshow": {
     "slide_type": "subslide"
    }
   },
   "source": [
    "Ahora debería ver un prefijo en su indicador de shell con el nombre de su entorno."
   ]
  },
  {
   "cell_type": "markdown",
   "id": "9f1267df",
   "metadata": {
    "slideshow": {
     "slide_type": "slide"
    }
   },
   "source": [
    "Once your environment is activated, install the cryptography module.\n",
    "Remember to activate your Python virtual environment first if you don’t want\n",
    "cryptography installed system-wide.  \n",
    "\n",
    "`pip install cryptography`"
   ]
  },
  {
   "cell_type": "markdown",
   "id": "a88b4472",
   "metadata": {
    "slideshow": {
     "slide_type": "slide"
    }
   },
   "source": [
    "We will be using the cryptography module throughout the book. "
   ]
  },
  {
   "cell_type": "markdown",
   "id": "da866a27",
   "metadata": {
    "slideshow": {
     "slide_type": "slide"
    }
   },
   "source": [
    "Many times we will refer directly to the module’s documentation that can be found online at  \n",
    "\n",
    "https://cryptography.io/en/latest/.  "
   ]
  },
  {
   "cell_type": "markdown",
   "id": "e014e791",
   "metadata": {
    "slideshow": {
     "slide_type": "subslide"
    }
   },
   "source": [
    "Muchas veces nos referiremos directamente a la documentación del módulo que se puede encontrar en línea en  \n",
    "\n",
    "https://cryptography.io/en/latest/.  "
   ]
  },
  {
   "cell_type": "markdown",
   "id": "33ca1c52",
   "metadata": {
    "slideshow": {
     "slide_type": "slide"
    }
   },
   "source": [
    "For some practices, we will also need the gmpy2 module. "
   ]
  },
  {
   "cell_type": "markdown",
   "id": "9ca3cd7b",
   "metadata": {
    "slideshow": {
     "slide_type": "subslide"
    }
   },
   "source": [
    "Para algunas prácticas también necesitaremos el módulo gmpy2."
   ]
  },
  {
   "cell_type": "markdown",
   "id": "3e2b598d",
   "metadata": {
    "slideshow": {
     "slide_type": "slide"
    }
   },
   "source": [
    "This does require a few system-wide packages."
   ]
  },
  {
   "cell_type": "markdown",
   "id": "bd2d8d42",
   "metadata": {
    "slideshow": {
     "slide_type": "slide"
    }
   },
   "source": [
    "apt install libmpfr-dev libmpc-dev libgmp-dev python3-gmpy2\n",
    "Once you have these packages installed, you can install the Python gmpy2 module\n",
    "within your virtual environment  \n",
    "\n",
    "`pip install gmpy2`  "
   ]
  },
  {
   "cell_type": "markdown",
   "id": "7997a029",
   "metadata": {
    "slideshow": {
     "slide_type": "slide"
    }
   },
   "source": [
    "Note that within the virtual environment, you can use “python” instead of “python3”\n",
    "and “pip” instead of “pip3.” "
   ]
  },
  {
   "cell_type": "markdown",
   "id": "c3442204",
   "metadata": {
    "slideshow": {
     "slide_type": "slide"
    }
   },
   "source": [
    "This is because when you created the environment with venv, you did so using Python3. "
   ]
  },
  {
   "cell_type": "markdown",
   "id": "d89ff683",
   "metadata": {
    "slideshow": {
     "slide_type": "slide"
    }
   },
   "source": [
    "Within the virtual environment, Python3 is the only interpreter and there is no need to differentiate between version 2 and version 3."
   ]
  },
  {
   "cell_type": "markdown",
   "id": "af7ff733",
   "metadata": {
    "slideshow": {
     "slide_type": "slide"
    }
   },
   "source": [
    " If you"
   ]
  },
  {
   "cell_type": "code",
   "execution_count": null,
   "id": "c6b4032e",
   "metadata": {
    "slideshow": {
     "slide_type": "slide"
    }
   },
   "outputs": [],
   "source": []
  },
  {
   "cell_type": "code",
   "execution_count": null,
   "id": "fc672b92",
   "metadata": {
    "slideshow": {
     "slide_type": "slide"
    }
   },
   "outputs": [],
   "source": []
  },
  {
   "cell_type": "markdown",
   "id": "db49da87",
   "metadata": {
    "slideshow": {
     "slide_type": "slide"
    }
   },
   "source": [
    "## Conceptos teóricos para la práctica"
   ]
  },
  {
   "cell_type": "markdown",
   "id": "1c2f2bad",
   "metadata": {
    "slideshow": {
     "slide_type": "slide"
    }
   },
   "source": [
    "1.  el modulo string de python\n",
    "2. Las funciones personalizadas de python\n",
    "3. diccionario de python\n",
    "4. Ciclo for"
   ]
  },
  {
   "cell_type": "markdown",
   "id": "5af8f0d3",
   "metadata": {
    "slideshow": {
     "slide_type": "slide"
    }
   },
   "source": [
    "# Caesar’s Shifty Cipher"
   ]
  },
  {
   "cell_type": "markdown",
   "id": "d0b9cd59",
   "metadata": {
    "slideshow": {
     "slide_type": "subslide"
    }
   },
   "source": [
    "# Cifrado astuto de César"
   ]
  },
  {
   "cell_type": "markdown",
   "id": "3b4126a0",
   "metadata": {
    "slideshow": {
     "slide_type": "slide"
    }
   },
   "source": [
    "The two (made-up) countries of East Antarctica (EA) and West Antarctica (WA) don’t like each other very much and are spying on each other incessantly. "
   ]
  },
  {
   "cell_type": "markdown",
   "id": "967472e8",
   "metadata": {
    "slideshow": {
     "slide_type": "subslide"
    }
   },
   "source": [
    "Los dos países (inventados) de la Antártida Oriental (EA) y la Antártida Occidental (WA) no se gustan mucho y se espían incesantemente."
   ]
  },
  {
   "cell_type": "markdown",
   "id": "4deaef28",
   "metadata": {
    "slideshow": {
     "slide_type": "slide"
    }
   },
   "source": [
    "In this scenario, two spies from EA, with code names “Alice” and “Bob,” have infiltrated their western \n",
    "neighbors and are sending messages back and forth through covert channels."
   ]
  },
  {
   "cell_type": "markdown",
   "id": "da6eafe0",
   "metadata": {
    "slideshow": {
     "slide_type": "subslide"
    }
   },
   "source": [
    "En este escenario, dos espías de EA, con nombres en clave \"Alice\" y \"Bob\", se han infiltrado en sus vecinos occidentales y están enviando mensajes de un lado a otro a través de canales encubiertos."
   ]
  },
  {
   "cell_type": "markdown",
   "id": "c4867e61",
   "metadata": {
    "slideshow": {
     "slide_type": "slide"
    }
   },
   "source": [
    "They don’t like it when their adversaries in West Antarctica read their messages, so they communicate using a secret code."
   ]
  },
  {
   "cell_type": "markdown",
   "id": "35dc64fe",
   "metadata": {
    "slideshow": {
     "slide_type": "subslide"
    }
   },
   "source": [
    "No les gusta que sus adversarios en la Antártida Occidental lean sus mensajes, por lo que se comunican mediante un código secreto."
   ]
  },
  {
   "cell_type": "markdown",
   "id": "32184cdd",
   "metadata": {
    "slideshow": {
     "slide_type": "slide"
    }
   },
   "source": [
    "Unfortunately, East Antarctica is not particularly advanced in the realm of cryptography. "
   ]
  },
  {
   "cell_type": "markdown",
   "id": "66bc3f0a",
   "metadata": {
    "slideshow": {
     "slide_type": "subslide"
    }
   },
   "source": [
    "Desafortunadamente, la Antártida Oriental no está particularmente avanzada en el ámbito de la criptografía."
   ]
  },
  {
   "cell_type": "markdown",
   "id": "c72bdf3f",
   "metadata": {
    "slideshow": {
     "slide_type": "slide"
    }
   },
   "source": [
    "For a code, the East Antarctica Truth-Spying Agency (EATSA) creates a simple substitution by replacing each letter with another letter later in the alphabet. "
   ]
  },
  {
   "cell_type": "markdown",
   "id": "2064ddaf",
   "metadata": {
    "slideshow": {
     "slide_type": "subslide"
    }
   },
   "source": [
    "Para un código, la Agencia de Espionaje de la Verdad de la Antártida Oriental (EATSA) crea una sustitución simple reemplazando cada letra con otra letra más adelante en el alfabeto."
   ]
  },
  {
   "cell_type": "markdown",
   "id": "1485b2d7",
   "metadata": {
    "slideshow": {
     "slide_type": "slide"
    }
   },
   "source": [
    "Both countries use the standard ASCII alphabet with the letters “A” through “Z.”"
   ]
  },
  {
   "cell_type": "markdown",
   "id": "a118709a",
   "metadata": {
    "slideshow": {
     "slide_type": "subslide"
    }
   },
   "source": [
    "Ambos países utilizan el alfabeto ASCII estándar con las letras de la \"A\" a la \"Z\"."
   ]
  },
  {
   "cell_type": "markdown",
   "id": "4f7955c6",
   "metadata": {
    "slideshow": {
     "slide_type": "slide"
    }
   },
   "source": [
    "Suppose for a moment that they choose to code their messages using this substitution technique with the shift distance set to 1. "
   ]
  },
  {
   "cell_type": "markdown",
   "id": "92e71b19",
   "metadata": {
    "slideshow": {
     "slide_type": "subslide"
    }
   },
   "source": [
    "Supongamos por un momento que eligen codificar sus mensajes utilizando esta técnica de sustitución con la distancia de cambio establecida en $n = 1$. "
   ]
  },
  {
   "cell_type": "markdown",
   "id": "e349f656",
   "metadata": {
    "slideshow": {
     "slide_type": "slide"
    }
   },
   "source": [
    "In that case, the letter “A” would be replaced with “B,” the letter “B” would be replaced with “C,” and so on. "
   ]
  },
  {
   "cell_type": "markdown",
   "id": "26c9c6d3",
   "metadata": {
    "slideshow": {
     "slide_type": "subslide"
    }
   },
   "source": [
    "En ese caso, la letra \"A\" sería se reemplazaría con \"B\", la letra \"B\" se reemplazaría con \"C\", y así sucesivamente."
   ]
  },
  {
   "cell_type": "markdown",
   "id": "2d080d81",
   "metadata": {
    "slideshow": {
     "slide_type": "slide"
    }
   },
   "source": [
    "The last letter of the alphabet, “Z,” would wrap around to the beginning and be replaced with “A.” "
   ]
  },
  {
   "cell_type": "markdown",
   "id": "7838122e",
   "metadata": {
    "slideshow": {
     "slide_type": "subslide"
    }
   },
   "source": [
    "La última letra del alfabeto, \"Z\", se ajustaría al principio y se reemplazaría por \"A\"."
   ]
  },
  {
   "cell_type": "markdown",
   "id": "7b3c243b",
   "metadata": {
    "slideshow": {
     "slide_type": "slide"
    }
   },
   "source": [
    "This table shows the whole (uppercase) mapping of plaintext (original, untouched) letters to \n",
    "ciphertext (coded) letters. "
   ]
  },
  {
   "cell_type": "markdown",
   "id": "178b9e6a",
   "metadata": {
    "slideshow": {
     "slide_type": "subslide"
    }
   },
   "source": [
    "Esta tabla muestra el mapeo completo (en mayúsculas) de letras de texto simple (original, intacto) a letras de texto cifrado (codificadas). "
   ]
  },
  {
   "cell_type": "markdown",
   "id": "24c7d51b",
   "metadata": {
    "slideshow": {
     "slide_type": "slide"
    }
   },
   "source": [
    "Non-letters like spaces and punctuation are left intact."
   ]
  },
  {
   "cell_type": "markdown",
   "id": "83d246b8",
   "metadata": {
    "slideshow": {
     "slide_type": "subslide"
    }
   },
   "source": [
    "Las letras que no son como espacios y puntuación se dejan intactas."
   ]
  },
  {
   "cell_type": "markdown",
   "id": "351c520a",
   "metadata": {
    "slideshow": {
     "slide_type": "slide"
    }
   },
   "source": [
    "<img src = 'https://github.com/marco-canas/4_didactica_aritmetica/blob/main/classes/1_chapter/fig_1.png?raw=true'>"
   ]
  },
  {
   "cell_type": "markdown",
   "id": "00862914",
   "metadata": {
    "slideshow": {
     "slide_type": "slide"
    }
   },
   "source": [
    "Using this table, HELLO WORLD encodes to IFMMP XPSME."
   ]
  },
  {
   "cell_type": "markdown",
   "id": "c9e5951f",
   "metadata": {
    "slideshow": {
     "slide_type": "subslide"
    }
   },
   "source": [
    "Usando esta tabla, HELLO WORLD codifica a IFMMP XPSME."
   ]
  },
  {
   "cell_type": "markdown",
   "id": "1001f3e2",
   "metadata": {
    "slideshow": {
     "slide_type": "slide"
    }
   },
   "source": [
    "Now try it with distance 2, where “A” goes to “C,” “B” goes to “D,” and so on until “Y,” \n",
    "which maps to “A,” and “Z,” which maps to “B.”"
   ]
  },
  {
   "cell_type": "markdown",
   "id": "3a9a0311",
   "metadata": {
    "slideshow": {
     "slide_type": "subslide"
    }
   },
   "source": [
    "Ahora inténtelo con la distancia $n = 2$, donde \"A\" va a \"C\", \"B\" va a \"D\", y así sucesivamente hasta \"Y\", que se asigna a \"A\" y \"Z\", que se asigna a \" B.\""
   ]
  },
  {
   "cell_type": "markdown",
   "id": "ad05d615",
   "metadata": {
    "slideshow": {
     "slide_type": "slide"
    }
   },
   "source": [
    "<img src = 'https://github.com/marco-canas/4_didactica_aritmetica/blob/main/classes/1_chapter/fig_2.png?raw=true'>"
   ]
  },
  {
   "cell_type": "markdown",
   "id": "ac1848a7",
   "metadata": {
    "slideshow": {
     "slide_type": "slide"
    }
   },
   "source": [
    "Now, the message HELLO WORLD is encoded as JGNNQ YQTNF."
   ]
  },
  {
   "cell_type": "markdown",
   "id": "f57fd128",
   "metadata": {
    "slideshow": {
     "slide_type": "subslide"
    }
   },
   "source": [
    "Ahora, el mensaje HOLA MUNDO está codificado como JGNNQ YQTNF."
   ]
  },
  {
   "cell_type": "markdown",
   "id": "51dab4e4",
   "metadata": {
    "slideshow": {
     "slide_type": "slide"
    }
   },
   "source": [
    "Happy with their simple shift cipher, the East Antarctica Truth-Spying Agency (EATSA) decides to create a Python program to handle encoding and decoding messages."
   ]
  },
  {
   "cell_type": "markdown",
   "id": "67b2d19c",
   "metadata": {
    "slideshow": {
     "slide_type": "subslide"
    }
   },
   "source": [
    "Contentos con su cifrado de cambio simple, la Agencia de Espionaje de la Verdad de la Antártida Oriental (EATSA) decide crear un programa Python para manejar la codificación y decodificación de mensajes."
   ]
  },
  {
   "cell_type": "markdown",
   "id": "8530c096",
   "metadata": {
    "slideshow": {
     "slide_type": "slide"
    }
   },
   "source": [
    "## Tip: Write Code"
   ]
  },
  {
   "cell_type": "markdown",
   "id": "377abc02",
   "metadata": {
    "slideshow": {
     "slide_type": "subslide"
    }
   },
   "source": [
    "## Sugerencia: escribir código"
   ]
  },
  {
   "cell_type": "markdown",
   "id": "b216293f",
   "metadata": {
    "slideshow": {
     "slide_type": "slide"
    }
   },
   "source": [
    "This book walks through a lot of sample Python programs. "
   ]
  },
  {
   "cell_type": "markdown",
   "id": "25e8cec6",
   "metadata": {
    "slideshow": {
     "slide_type": "subslide"
    }
   },
   "source": [
    "Este libro recorre una gran cantidad de programas Python de muestra."
   ]
  },
  {
   "cell_type": "markdown",
   "id": "1e091ec6",
   "metadata": {
    "slideshow": {
     "slide_type": "slide"
    }
   },
   "source": [
    "At the beginning of each one, we will list the requirements and perhaps a hint or an overview of a cryptographic API. "
   ]
  },
  {
   "cell_type": "markdown",
   "id": "1e5e4ad7",
   "metadata": {
    "slideshow": {
     "slide_type": "subslide"
    }
   },
   "source": [
    "Al comienzo de cada uno, enumeraremos los requisitos y tal vez una pista o una descripción general de una API criptográfica."
   ]
  },
  {
   "cell_type": "markdown",
   "id": "af142b99",
   "metadata": {
    "slideshow": {
     "slide_type": "slide"
    }
   },
   "source": [
    "You should go ahead and try to write the program yourself first."
   ]
  },
  {
   "cell_type": "markdown",
   "id": "66f39b0b",
   "metadata": {
    "slideshow": {
     "slide_type": "subslide"
    }
   },
   "source": [
    "Debe continuar y tratar de escribir el programa usted mismo primero."
   ]
  },
  {
   "cell_type": "markdown",
   "id": "dc6cbf7e",
   "metadata": {
    "slideshow": {
     "slide_type": "slide"
    }
   },
   "source": [
    " \n",
    "It’s fine if you get stuck or make mistakes. "
   ]
  },
  {
   "cell_type": "markdown",
   "id": "c7bc5a1f",
   "metadata": {
    "slideshow": {
     "slide_type": "subslide"
    }
   },
   "source": [
    "Está bien si te quedas atascado o cometes errores."
   ]
  },
  {
   "cell_type": "markdown",
   "id": "bf85b070",
   "metadata": {
    "slideshow": {
     "slide_type": "slide"
    }
   },
   "source": [
    "Even if you can’t figure everything out on your own, your experience with trying to write the program will help you understand the provided samples much better."
   ]
  },
  {
   "cell_type": "markdown",
   "id": "75249ef9",
   "metadata": {
    "slideshow": {
     "slide_type": "subslide"
    }
   },
   "source": [
    "Incluso si no puede resolver todo por su cuenta, su experiencia al tratar de escribir el programa lo ayudará a comprender mucho mejor las muestras proporcionadas."
   ]
  },
  {
   "cell_type": "markdown",
   "id": "ebb9ec57",
   "metadata": {
    "slideshow": {
     "slide_type": "slide"
    }
   },
   "source": [
    "## Sugerencia: escribir código"
   ]
  },
  {
   "cell_type": "markdown",
   "id": "52058aea",
   "metadata": {
    "slideshow": {
     "slide_type": "slide"
    }
   },
   "source": [
    "## EXERCISE 1.1. SHIFT CIPHER ENCODER"
   ]
  },
  {
   "cell_type": "markdown",
   "id": "e6f7c6ec",
   "metadata": {
    "slideshow": {
     "slide_type": "subslide"
    }
   },
   "source": [
    "## EJERCICIO 1.1. CODIFICADOR DE CIFRADO DE CAMBIO"
   ]
  },
  {
   "cell_type": "markdown",
   "id": "4eb73d64",
   "metadata": {
    "slideshow": {
     "slide_type": "slide"
    }
   },
   "source": [
    "Create a Python program that encodes and decodes messages using the shift cipher described \n",
    "in this section. "
   ]
  },
  {
   "cell_type": "markdown",
   "id": "db7af6af",
   "metadata": {
    "slideshow": {
     "slide_type": "slide"
    }
   },
   "source": [
    "Cree un programa de Python que codifique y decodifique mensajes usando el cifrado de desplazamiento descrito en esta sección. "
   ]
  },
  {
   "cell_type": "markdown",
   "id": "13e508dc",
   "metadata": {
    "slideshow": {
     "slide_type": "slide"
    }
   },
   "source": [
    "The amount of shift must be configurable."
   ]
  },
  {
   "cell_type": "markdown",
   "id": "c75079fc",
   "metadata": {
    "slideshow": {
     "slide_type": "slide"
    }
   },
   "source": [
    "La cantidad de turno debe ser configurable."
   ]
  },
  {
   "cell_type": "markdown",
   "id": "bf223fa1",
   "metadata": {
    "slideshow": {
     "slide_type": "slide"
    }
   },
   "source": [
    "Let’s walk through this exercise together. "
   ]
  },
  {
   "cell_type": "markdown",
   "id": "a47f7fbc",
   "metadata": {
    "slideshow": {
     "slide_type": "subslide"
    }
   },
   "source": [
    "Repasemos este ejercicio juntos. "
   ]
  },
  {
   "cell_type": "markdown",
   "id": "2286d593",
   "metadata": {
    "slideshow": {
     "slide_type": "slide"
    }
   },
   "source": [
    "We use Python 3 for all exercises."
   ]
  },
  {
   "cell_type": "markdown",
   "id": "c187e614",
   "metadata": {
    "slideshow": {
     "slide_type": "subslide"
    }
   },
   "source": [
    "Usamos Python 3 para todos los ejercicios."
   ]
  },
  {
   "cell_type": "markdown",
   "id": "f24d20a0",
   "metadata": {
    "slideshow": {
     "slide_type": "slide"
    }
   },
   "source": [
    "First, let’s create a simple function for creating our substitution tables. "
   ]
  },
  {
   "cell_type": "markdown",
   "id": "cfbd121e",
   "metadata": {
    "slideshow": {
     "slide_type": "subslide"
    }
   },
   "source": [
    "Primero, creemos una función simple para crear nuestras tablas de sustitución. "
   ]
  },
  {
   "cell_type": "markdown",
   "id": "55c88a27",
   "metadata": {
    "slideshow": {
     "slide_type": "slide"
    }
   },
   "source": [
    "For simplicity, we will create two Python dictionaries: one containing the encoding table and one creating the decoding table."
   ]
  },
  {
   "cell_type": "markdown",
   "id": "ed947926",
   "metadata": {
    "slideshow": {
     "slide_type": "subslide"
    }
   },
   "source": [
    "Para simplificar, crearemos dos diccionarios de Python: uno que contenga la tabla de codificación y otro que cree la tabla de decodificación. "
   ]
  },
  {
   "cell_type": "markdown",
   "id": "14c1a659",
   "metadata": {
    "slideshow": {
     "slide_type": "slide"
    }
   },
   "source": [
    "We will also only encode and decode uppercase ASCII letters, as shown in Listing 1-1."
   ]
  },
  {
   "cell_type": "markdown",
   "id": "d51d922b",
   "metadata": {
    "slideshow": {
     "slide_type": "subslide"
    }
   },
   "source": [
    "También codificaremos y decodificaremos letras mayúsculas ASCII, como se muestra en el Listado 1-1."
   ]
  },
  {
   "cell_type": "markdown",
   "id": "e74cbca4",
   "metadata": {
    "slideshow": {
     "slide_type": "slide"
    }
   },
   "source": [
    "## Pregunta de la red YouTube\n",
    "\n",
    " esa declaración `ascii_uppercase` es el alfabeto?\n"
   ]
  },
  {
   "cell_type": "code",
   "execution_count": 1,
   "id": "d267b6db",
   "metadata": {
    "slideshow": {
     "slide_type": "slide"
    }
   },
   "outputs": [
    {
     "data": {
      "text/plain": [
       "'ABCDEFGHIJKLMNOPQRSTUVWXYZ'"
      ]
     },
     "execution_count": 1,
     "metadata": {},
     "output_type": "execute_result"
    }
   ],
   "source": [
    "import string \n",
    "\n",
    "string.ascii_uppercase"
   ]
  },
  {
   "cell_type": "code",
   "execution_count": 3,
   "id": "c8594b2b",
   "metadata": {
    "slideshow": {
     "slide_type": "slide"
    }
   },
   "outputs": [
    {
     "data": {
      "text/plain": [
       "'C'"
      ]
     },
     "execution_count": 3,
     "metadata": {},
     "output_type": "execute_result"
    }
   ],
   "source": [
    "string.ascii_uppercase[2]"
   ]
  },
  {
   "cell_type": "code",
   "execution_count": 8,
   "id": "a891649d",
   "metadata": {},
   "outputs": [
    {
     "data": {
      "text/plain": [
       "'c'"
      ]
     },
     "execution_count": 8,
     "metadata": {},
     "output_type": "execute_result"
    }
   ],
   "source": [
    "string.ascii_lowercase[2]"
   ]
  },
  {
   "cell_type": "markdown",
   "id": "6637bbeb",
   "metadata": {
    "slideshow": {
     "slide_type": "slide"
    }
   },
   "source": [
    "# Listing 1-1. Creating Substitution Tables"
   ]
  },
  {
   "cell_type": "code",
   "execution_count": 4,
   "id": "c1c76e5b",
   "metadata": {
    "slideshow": {
     "slide_type": "slide"
    }
   },
   "outputs": [],
   "source": [
    "# Partial Listing: Some Assembly Required\n",
    "import string\n",
    "def create_shift_substitutions(n):\n",
    "    '''\n",
    "    INPUT: n es la distancia de cambio.\n",
    "    OUTPUT: \n",
    "    '''\n",
    "    encoding = {}\n",
    "    decoding = {}\n",
    "    alphabet_size = len(string.ascii_uppercase)\n",
    "    for i in range(alphabet_size):\n",
    "        letter = string.ascii_uppercase[i]\n",
    "        subst_letter = string.ascii_uppercase[(i+n)%alphabet_size]\n",
    "\n",
    "        encoding[letter] = subst_letter\n",
    "        decoding[subst_letter] = letter\n",
    "    return encoding, decoding"
   ]
  },
  {
   "cell_type": "code",
   "execution_count": 5,
   "id": "f80b4b61",
   "metadata": {
    "slideshow": {
     "slide_type": "slide"
    }
   },
   "outputs": [],
   "source": [
    "dict_que_codifica, dict_que_decodifica = create_shift_substitutions(n = 1)"
   ]
  },
  {
   "cell_type": "code",
   "execution_count": 6,
   "id": "877e223f",
   "metadata": {
    "scrolled": true
   },
   "outputs": [
    {
     "data": {
      "text/plain": [
       "({'A': 'B',\n",
       "  'B': 'C',\n",
       "  'C': 'D',\n",
       "  'D': 'E',\n",
       "  'E': 'F',\n",
       "  'F': 'G',\n",
       "  'G': 'H',\n",
       "  'H': 'I',\n",
       "  'I': 'J',\n",
       "  'J': 'K',\n",
       "  'K': 'L',\n",
       "  'L': 'M',\n",
       "  'M': 'N',\n",
       "  'N': 'O',\n",
       "  'O': 'P',\n",
       "  'P': 'Q',\n",
       "  'Q': 'R',\n",
       "  'R': 'S',\n",
       "  'S': 'T',\n",
       "  'T': 'U',\n",
       "  'U': 'V',\n",
       "  'V': 'W',\n",
       "  'W': 'X',\n",
       "  'X': 'Y',\n",
       "  'Y': 'Z',\n",
       "  'Z': 'A'},)"
      ]
     },
     "execution_count": 6,
     "metadata": {},
     "output_type": "execute_result"
    }
   ],
   "source": [
    "dict_que_codifica,"
   ]
  },
  {
   "cell_type": "code",
   "execution_count": 7,
   "id": "732b8dec",
   "metadata": {},
   "outputs": [
    {
     "data": {
      "text/plain": [
       "{'B': 'A',\n",
       " 'C': 'B',\n",
       " 'D': 'C',\n",
       " 'E': 'D',\n",
       " 'F': 'E',\n",
       " 'G': 'F',\n",
       " 'H': 'G',\n",
       " 'I': 'H',\n",
       " 'J': 'I',\n",
       " 'K': 'J',\n",
       " 'L': 'K',\n",
       " 'M': 'L',\n",
       " 'N': 'M',\n",
       " 'O': 'N',\n",
       " 'P': 'O',\n",
       " 'Q': 'P',\n",
       " 'R': 'Q',\n",
       " 'S': 'R',\n",
       " 'T': 'S',\n",
       " 'U': 'T',\n",
       " 'V': 'U',\n",
       " 'W': 'V',\n",
       " 'X': 'W',\n",
       " 'Y': 'X',\n",
       " 'Z': 'Y',\n",
       " 'A': 'Z'}"
      ]
     },
     "execution_count": 7,
     "metadata": {},
     "output_type": "execute_result"
    }
   ],
   "source": [
    "dict_que_decodifica "
   ]
  },
  {
   "cell_type": "markdown",
   "id": "845d5ad7",
   "metadata": {
    "slideshow": {
     "slide_type": "slide"
    }
   },
   "source": [
    "create_shift_substitutions: crear sustituciones de turno. "
   ]
  },
  {
   "cell_type": "markdown",
   "id": "73a7564f",
   "metadata": {
    "slideshow": {
     "slide_type": "slide"
    }
   },
   "source": [
    "Observe that this function is parameterized on n, the shift parameter. "
   ]
  },
  {
   "cell_type": "markdown",
   "id": "83d6d7ac",
   "metadata": {
    "slideshow": {
     "slide_type": "subslide"
    }
   },
   "source": [
    "Observe que esta función está parametrizada en $n$, el parámetro de desplazamiento."
   ]
  },
  {
   "cell_type": "markdown",
   "id": "c7192a8b",
   "metadata": {
    "slideshow": {
     "slide_type": "slide"
    }
   },
   "source": [
    "We don’t have any error checking in this function; we will check parameters elsewhere. "
   ]
  },
  {
   "cell_type": "markdown",
   "id": "ac32f656",
   "metadata": {
    "slideshow": {
     "slide_type": "subslide"
    }
   },
   "source": [
    "No tenemos ningún error al verificar esta función; comprobaremos los parámetros en otro lugar."
   ]
  },
  {
   "cell_type": "markdown",
   "id": "bd4bd698",
   "metadata": {
    "slideshow": {
     "slide_type": "slide"
    }
   },
   "source": [
    "Note, though, that any integer value of n is valid because Python handles negative modulus in a reasonable way. "
   ]
  },
  {
   "cell_type": "markdown",
   "id": "6b12bce1",
   "metadata": {
    "slideshow": {
     "slide_type": "slide"
    }
   },
   "source": [
    "Tenga en cuenta, sin embargo, que cualquier valor entero de $n$ es válido porque Python maneja el módulo negativo de una manera razonable."
   ]
  },
  {
   "cell_type": "markdown",
   "id": "85e49a5a",
   "metadata": {
    "slideshow": {
     "slide_type": "slide"
    }
   },
   "source": [
    "Even the value 0 is okay: it just produces a mapping from each character to itself! "
   ]
  },
  {
   "cell_type": "markdown",
   "id": "400f8256",
   "metadata": {
    "slideshow": {
     "slide_type": "subslide"
    }
   },
   "source": [
    "Incluso el valor 0 está bien: ¡simplemente produce una asignación de cada carácter a sí mismo!"
   ]
  },
  {
   "cell_type": "markdown",
   "id": "43a8002f",
   "metadata": {
    "slideshow": {
     "slide_type": "slide"
    }
   },
   "source": [
    "Values larger than 26 also work fine because we apply a final modulus of alphabet_size before indexing into the alphabet."
   ]
  },
  {
   "cell_type": "markdown",
   "id": "0cf4a8fa",
   "metadata": {
    "slideshow": {
     "slide_type": "subslide"
    }
   },
   "source": [
    "Los valores superiores a 26 también funcionan bien porque aplicamos un módulo final de alphabet_size antes de indexar en el alfabeto."
   ]
  },
  {
   "cell_type": "markdown",
   "id": "0390b01f",
   "metadata": {
    "slideshow": {
     "slide_type": "slide"
    }
   },
   "source": [
    "Now, for encoding and decoding, we simply substitute each letter in a message for one in the corresponding dictionary, shown in Listing 1-2"
   ]
  },
  {
   "cell_type": "markdown",
   "id": "d44dc904",
   "metadata": {
    "slideshow": {
     "slide_type": "subslide"
    }
   },
   "source": [
    "Ahora, para codificar y decodificar, simplemente sustituimos cada letra en un mensaje por una en el diccionario correspondiente, que se muestra en el Listado 1-2"
   ]
  },
  {
   "cell_type": "markdown",
   "id": "54b80901",
   "metadata": {
    "slideshow": {
     "slide_type": "slide"
    }
   },
   "source": [
    "### Listing 1-2. Shift Encoder"
   ]
  },
  {
   "cell_type": "markdown",
   "id": "27d44bbf",
   "metadata": {
    "slideshow": {
     "slide_type": "subslide"
    }
   },
   "source": [
    "### Listado 1-2. Codificador de cambio"
   ]
  },
  {
   "cell_type": "code",
   "execution_count": null,
   "id": "88234572",
   "metadata": {
    "slideshow": {
     "slide_type": "slide"
    }
   },
   "outputs": [],
   "source": [
    "# Partial Listing: Some Assembly Required"
   ]
  },
  {
   "cell_type": "markdown",
   "id": "3fa61a83",
   "metadata": {
    "slideshow": {
     "slide_type": "subslide"
    }
   },
   "source": [
    "Listado parcial: se requiere algo de ensamblaje"
   ]
  },
  {
   "cell_type": "code",
   "execution_count": 29,
   "id": "6ff362c2",
   "metadata": {
    "slideshow": {
     "slide_type": "slide"
    }
   },
   "outputs": [],
   "source": [
    "def encode(message, dict_que_codifica):\n",
    "    \"\"\"\n",
    "    INPUT: un string para codificar y \n",
    "    subst: es el diccionario que realiza la codificación. \n",
    "    OUTPUT: \n",
    "    \"\"\"\n",
    "    cipher = \"\"\n",
    "    for letter in message:\n",
    "        if letter in dict_que_codifica:\n",
    "            cipher +=  dict_que_codifica[letter]\n",
    "        else:\n",
    "            cipher += letter\n",
    "    return cipher"
   ]
  },
  {
   "cell_type": "code",
   "execution_count": 30,
   "id": "4e46b9af",
   "metadata": {
    "slideshow": {
     "slide_type": "slide"
    }
   },
   "outputs": [
    {
     "data": {
      "text/plain": [
       "'IPMB'"
      ]
     },
     "execution_count": 30,
     "metadata": {},
     "output_type": "execute_result"
    }
   ],
   "source": [
    "encode('HOLA', dict_que_codifica) "
   ]
  },
  {
   "cell_type": "code",
   "execution_count": 31,
   "id": "2b927551",
   "metadata": {
    "slideshow": {
     "slide_type": "slide"
    }
   },
   "outputs": [],
   "source": [
    "def decode(message, dict_que_decodifica):\n",
    "    return encode(message, dict_que_decodifica)"
   ]
  },
  {
   "cell_type": "code",
   "execution_count": 32,
   "id": "965bdc36",
   "metadata": {
    "slideshow": {
     "slide_type": "slide"
    }
   },
   "outputs": [
    {
     "data": {
      "text/plain": [
       "'HOLA'"
      ]
     },
     "execution_count": 32,
     "metadata": {},
     "output_type": "execute_result"
    }
   ],
   "source": [
    "decode('IPMB', dict_que_decodifica)"
   ]
  },
  {
   "cell_type": "markdown",
   "id": "9606e4d7",
   "metadata": {
    "slideshow": {
     "slide_type": "slide"
    }
   },
   "source": [
    "## Note: Compactness vs. Clarity"
   ]
  },
  {
   "cell_type": "markdown",
   "id": "43664ec4",
   "metadata": {
    "slideshow": {
     "slide_type": "slide"
    }
   },
   "source": [
    "## Nota: compacidad frente a claridad"
   ]
  },
  {
   "cell_type": "markdown",
   "id": "43441a7c",
   "metadata": {
    "slideshow": {
     "slide_type": "slide"
    }
   },
   "source": [
    "We tend to favor universal clarity over compactness when there is a conflict between them. "
   ]
  },
  {
   "cell_type": "markdown",
   "id": "400087d7",
   "metadata": {
    "slideshow": {
     "slide_type": "slide"
    }
   },
   "source": [
    "Tendemos a favorecer la claridad universal sobre la compacidad cuando hay un conflicto entre ellos."
   ]
  },
  {
   "cell_type": "markdown",
   "id": "28915995",
   "metadata": {
    "slideshow": {
     "slide_type": "slide"
    }
   },
   "source": [
    "We will even write things in ways that might not be widely considered idiomatic if it helps to illustrate what is happening."
   ]
  },
  {
   "cell_type": "markdown",
   "id": "92442881",
   "metadata": {
    "slideshow": {
     "slide_type": "slide"
    }
   },
   "source": [
    "Incluso escribiremos cosas de maneras que podrían no ser consideradas idiomáticas si ayudan a ilustrar lo que está sucediendo."
   ]
  },
  {
   "cell_type": "markdown",
   "id": "0d986214",
   "metadata": {
    "slideshow": {
     "slide_type": "slide"
    }
   },
   "source": [
    "The code in Listing 1-2 has a nice example of favoring clarity over common idioms. "
   ]
  },
  {
   "cell_type": "markdown",
   "id": "b676646a",
   "metadata": {
    "slideshow": {
     "slide_type": "slide"
    }
   },
   "source": [
    "El código del Listado 1-2 tiene un buen ejemplo de favorecer la claridad sobre los modismos comunes."
   ]
  },
  {
   "cell_type": "markdown",
   "id": "3c947bce",
   "metadata": {
    "slideshow": {
     "slide_type": "slide"
    }
   },
   "source": [
    "An idiomatic function body would probably be a one-liner:"
   ]
  },
  {
   "cell_type": "markdown",
   "id": "8ed9b1e3",
   "metadata": {
    "slideshow": {
     "slide_type": "slide"
    }
   },
   "source": [
    "Un cuerpo de función idiomática probablemente sería de una sola línea:"
   ]
  },
  {
   "cell_type": "code",
   "execution_count": 7,
   "id": "6feba31f",
   "metadata": {
    "slideshow": {
     "slide_type": "slide"
    }
   },
   "outputs": [],
   "source": [
    "def encode(message, subst):\n",
    "    return \"\".join(subst.get(x, x) for x in message)"
   ]
  },
  {
   "cell_type": "markdown",
   "id": "fad8fa71",
   "metadata": {
    "slideshow": {
     "slide_type": "slide"
    }
   },
   "source": [
    "That’s a lovely bit of Python if you’re used to it, but we’re trying not to make too many assumptions here."
   ]
  },
  {
   "cell_type": "markdown",
   "id": "7f0278b4",
   "metadata": {
    "slideshow": {
     "slide_type": "slide"
    }
   },
   "source": [
    "In our implementation, the encode function takes an incoming message and a substitution dictionary. "
   ]
  },
  {
   "cell_type": "markdown",
   "id": "ee9e379a",
   "metadata": {
    "slideshow": {
     "slide_type": "slide"
    }
   },
   "source": [
    "For each letter in the message, we replace it if a substitution is available. Otherwise, we just include the character itself with no transformation (preserving spaces and punctuation)."
   ]
  },
  {
   "cell_type": "markdown",
   "id": "3ae06fd3",
   "metadata": {
    "slideshow": {
     "slide_type": "subslide"
    }
   },
   "source": [
    "Para cada letra del mensaje, la reemplazamos si hay una sustitución disponible. De lo contrario, simplemente incluimos el carácter en sí sin transformación (preservando los espacios y la puntuación)."
   ]
  },
  {
   "cell_type": "markdown",
   "id": "7d706408",
   "metadata": {
    "slideshow": {
     "slide_type": "slide"
    }
   },
   "source": [
    "Obviously, the decode operation in this listing is completely unnecessary, but we have included it to emphasize that encoding and decoding in a substitution cipher work exactly the same. "
   ]
  },
  {
   "cell_type": "markdown",
   "id": "8fc135b1",
   "metadata": {
    "slideshow": {
     "slide_type": "slide"
    }
   },
   "source": [
    "Only the dictionary needs to change."
   ]
  },
  {
   "cell_type": "markdown",
   "id": "66be9976",
   "metadata": {
    "slideshow": {
     "slide_type": "slide"
    }
   },
   "source": [
    "These functions are sufficient to build an application, but for fun we will add in another function in Listing 1-3 to take a substitution dictionary and create a string that shows the mapping. "
   ]
  },
  {
   "cell_type": "markdown",
   "id": "feac4044",
   "metadata": {
    "slideshow": {
     "slide_type": "subslide"
    }
   },
   "source": [
    "Estas funciones son suficientes para construir una aplicación, pero por diversión agregaremos otra función en el Listado 1-3 para tomar un diccionario de sustitución y crear una cadena que muestre el mapeo."
   ]
  },
  {
   "cell_type": "markdown",
   "id": "8a00ef1d",
   "metadata": {
    "slideshow": {
     "slide_type": "slide"
    }
   },
   "source": [
    "This will allow us to print out our different tables created from different shift values."
   ]
  },
  {
   "cell_type": "markdown",
   "id": "23aac295",
   "metadata": {
    "slideshow": {
     "slide_type": "slide"
    }
   },
   "source": [
    "Listing 1-3. Printable Substitutions"
   ]
  },
  {
   "cell_type": "code",
   "execution_count": 8,
   "id": "57273231",
   "metadata": {
    "slideshow": {
     "slide_type": "slide"
    }
   },
   "outputs": [],
   "source": [
    " # Partial Listing: Some Assembly Required"
   ]
  },
  {
   "cell_type": "markdown",
   "id": "b8188f3a",
   "metadata": {
    "slideshow": {
     "slide_type": "slide"
    }
   },
   "source": [
    "Partial Listing: Some Assembly Required"
   ]
  },
  {
   "cell_type": "code",
   "execution_count": null,
   "id": "62452388",
   "metadata": {
    "slideshow": {
     "slide_type": "slide"
    }
   },
   "outputs": [],
   "source": [
    "def printable_substitution(subst):\n",
    "    # Sort by source character so things are alphabetized.\n",
    "    mapping = sorted(subst.items())\n",
    " \n",
    "  # Then create two lines: source above, target beneath.\n",
    "    alphabet_line = \" \".join(letter for letter, _ in mapping)\n",
    "    cipher_line = \" \".join(subst_letter for _, subst_letter in mapping)\n",
    "    return \"{}\\n{}\".format(alphabet_line, cipher_line)"
   ]
  },
  {
   "cell_type": "markdown",
   "id": "a9979688",
   "metadata": {
    "slideshow": {
     "slide_type": "slide"
    }
   },
   "source": [
    "Using these functions, we can build a simple application for encoding and decoding messages, shown in Listing 1-4."
   ]
  },
  {
   "cell_type": "markdown",
   "id": "9e890257",
   "metadata": {
    "slideshow": {
     "slide_type": "slide"
    }
   },
   "source": [
    "Listing 1-4. Shift Cipher Application"
   ]
  },
  {
   "cell_type": "code",
   "execution_count": null,
   "id": "cf9ed753",
   "metadata": {
    "slideshow": {
     "slide_type": "slide"
    }
   },
   "outputs": [],
   "source": [
    " # Partial Listing: Some Assembly Required"
   ]
  },
  {
   "cell_type": "code",
   "execution_count": 34,
   "id": "17d35240",
   "metadata": {
    "slideshow": {
     "slide_type": "slide"
    }
   },
   "outputs": [
    {
     "ename": "IndentationError",
     "evalue": "unindent does not match any outer indentation level (<tokenize>, line 7)",
     "output_type": "error",
     "traceback": [
      "\u001b[1;36m  File \u001b[1;32m\"<tokenize>\"\u001b[1;36m, line \u001b[1;32m7\u001b[0m\n\u001b[1;33m    9 print(\"\\tCurrent Shift: {}\\n\".format(n))\u001b[0m\n\u001b[1;37m    ^\u001b[0m\n\u001b[1;31mIndentationError\u001b[0m\u001b[1;31m:\u001b[0m unindent does not match any outer indentation level\n"
     ]
    }
   ],
   "source": [
    "if __name__ == \"__main__\":\n",
    "    n = 1\n",
    "    encoding, decoding = create_shift_substitutions(n)\n",
    "    while True:\n",
    "        print(\"\\nShift Encoder Decoder\")\n",
    "        print(\"--------------------\")\n",
    " 9 print(\"\\tCurrent Shift: {}\\n\".format(n))\n",
    "10 print(\"\\t1. Print Encoding/Decoding Tables.\")\n",
    "11 print(\"\\t2. Encode Message.\")\n",
    "12 print(\"\\t3. Decode Message.\")\n",
    "13 print(\"\\t4. Change Shift\")\n",
    "14 print(\"\\t5. Quit.\\n\")\n",
    "15 choice = input(\">> \")\n",
    "16 print()\n",
    "17\n",
    "18 if choice == '1':\n",
    "19 print(\"Encoding Table:\")\n",
    "20 print(printable_substitution(encoding))\n",
    "21 print(\"Decoding Table:\")\n",
    "22 print(printable_substitution(decoding))\n",
    "23\n",
    "24 elif choice == '2':\n",
    "25 message = input(\"\\nMessage to encode: \")\n",
    "26 print(\"Encoded Message: {}\".format(\n",
    "27 encode(message.upper(), encoding)))\n",
    "28\n",
    "29 elif choice == '3':\n",
    "30 message = input(\"\\nMessage to decode: \")\n",
    "31 print(\"Decoded Message: {}\".format(\n",
    "32 decode(message.upper(), decoding)))\n",
    "33\n",
    "34 elif choice == '4':\n",
    "35 new_shift = input(\"\\nNew shift (currently {}): \".format(n))\n",
    "36 try:\n",
    "37 new_shift = int(new_shift)\n",
    "38 if new_shift < 1:\n",
    "39 raise Exception(\"Shift must be greater than 0\")\n",
    "40 except ValueError:\n",
    "41 print(\"Shift {} is not a valid number.\".format(new_\n",
    "shift))\n",
    "42 else:\n",
    "43 n = new_shift\n",
    "44 encoding, decoding = create_shift_substitutions(n)\n",
    "45\n",
    "46 elif choice == '5':\n",
    "47 print(\"Terminating. This program will self destruct in 5 \n",
    "seconds .\\n\")\n",
    "48 break\n",
    "49\n",
    "50 else:\n",
    "51 print(\"Unknown option {}.\".format(choice))"
   ]
  },
  {
   "cell_type": "code",
   "execution_count": null,
   "id": "3810fa55",
   "metadata": {
    "slideshow": {
     "slide_type": "slide"
    }
   },
   "outputs": [],
   "source": []
  },
  {
   "cell_type": "code",
   "execution_count": null,
   "id": "9e1c627f",
   "metadata": {},
   "outputs": [],
   "source": []
  },
  {
   "cell_type": "code",
   "execution_count": null,
   "id": "c63c8283",
   "metadata": {},
   "outputs": [],
   "source": []
  },
  {
   "cell_type": "code",
   "execution_count": null,
   "id": "05b15bb1",
   "metadata": {},
   "outputs": [],
   "source": []
  },
  {
   "cell_type": "markdown",
   "id": "e0f90290",
   "metadata": {},
   "source": [
    "## Referentes  \n",
    "\n",
    "* Sobre el módulo string de python: https://www.digitalocean.com/community/tutorials/python-string-module"
   ]
  },
  {
   "cell_type": "markdown",
   "id": "88832390",
   "metadata": {
    "slideshow": {
     "slide_type": "slide"
    }
   },
   "source": [
    "### [Continue la secuencia de enseñanza a través de este vínculo](https://github.com/marco-canas/didactica_ciencia_datos/blob/main/propuesta/unidad_didac/1_statistic/1_Basic_Descriptive_Statistics/1_medidas_tendencia_central/2_mediana.ipynb)"
   ]
  }
 ],
 "metadata": {
  "celltoolbar": "Slideshow",
  "kernelspec": {
   "display_name": "Python 3 (ipykernel)",
   "language": "python",
   "name": "python3"
  },
  "language_info": {
   "codemirror_mode": {
    "name": "ipython",
    "version": 3
   },
   "file_extension": ".py",
   "mimetype": "text/x-python",
   "name": "python",
   "nbconvert_exporter": "python",
   "pygments_lexer": "ipython3",
   "version": "3.9.13"
  },
  "rise": {
   "enable_chalkboard": true,
   "theme": "sky"
  }
 },
 "nbformat": 4,
 "nbformat_minor": 5
}
