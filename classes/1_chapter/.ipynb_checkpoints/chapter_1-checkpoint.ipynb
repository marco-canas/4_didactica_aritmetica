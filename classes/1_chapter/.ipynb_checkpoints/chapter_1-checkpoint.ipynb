{
 "cells": [
  {
   "cell_type": "markdown",
   "id": "061c027b",
   "metadata": {
    "slideshow": {
     "slide_type": "slide"
    }
   },
   "source": []
  },
  {
   "cell_type": "markdown",
   "id": "685512ab",
   "metadata": {
    "slideshow": {
     "slide_type": "slide"
    }
   },
   "source": []
  },
  {
   "cell_type": "markdown",
   "id": "67cad030",
   "metadata": {
    "slideshow": {
     "slide_type": "slide"
    }
   },
   "source": [
    "# Chapter 1"
   ]
  },
  {
   "cell_type": "markdown",
   "id": "7866f030",
   "metadata": {
    "slideshow": {
     "slide_type": "slide"
    }
   },
   "source": [
    "# CAPÍTULO 1  "
   ]
  },
  {
   "cell_type": "markdown",
   "id": "c4bf4e52",
   "metadata": {
    "slideshow": {
     "slide_type": "slide"
    }
   },
   "source": [
    "## Cryptography: More Than Secrecy"
   ]
  },
  {
   "cell_type": "markdown",
   "id": "152412a5",
   "metadata": {
    "slideshow": {
     "slide_type": "slide"
    }
   },
   "source": [
    "Criptografía: más que secreto"
   ]
  },
  {
   "cell_type": "markdown",
   "id": "c80461c0",
   "metadata": {
    "slideshow": {
     "slide_type": "slide"
    }
   },
   "source": [
    "Welcome to the world of practical cryptography!   "
   ]
  },
  {
   "cell_type": "markdown",
   "id": "00629cd7",
   "metadata": {
    "slideshow": {
     "slide_type": "slide"
    }
   },
   "source": [
    "¡Bienvenido al mundo de la criptografía práctica!"
   ]
  },
  {
   "cell_type": "markdown",
   "id": "4d82eeac",
   "metadata": {
    "slideshow": {
     "slide_type": "slide"
    }
   },
   "source": [
    "The intent of this book is to teach you enough about cryptography that you can reason about what it does, when certain types can be effectively applied, and how to choose good strategies and algorithms. "
   ]
  },
  {
   "cell_type": "markdown",
   "id": "663d56e3",
   "metadata": {
    "slideshow": {
     "slide_type": "slide"
    }
   },
   "source": [
    "La intención de este libro es enseñarle lo suficiente sobre criptografía para que pueda razonar sobre lo que hace, cuándo se pueden aplicar ciertos tipos de manera efectiva y cómo elegir buenas estrategias y algoritmos."
   ]
  },
  {
   "cell_type": "markdown",
   "id": "a7e4e5f0",
   "metadata": {
    "slideshow": {
     "slide_type": "slide"
    }
   },
   "source": [
    "There are examples and exercises throughout each chapter, usually with a follow-along exercise right at the beginning to help you get your bearings.   "
   ]
  },
  {
   "cell_type": "markdown",
   "id": "70e708de",
   "metadata": {
    "slideshow": {
     "slide_type": "slide"
    }
   },
   "source": [
    "These examples are often accompanied by some fictitious stage setting to add some context.   "
   ]
  },
  {
   "cell_type": "markdown",
   "id": "d0673493",
   "metadata": {
    "slideshow": {
     "slide_type": "slide"
    }
   },
   "source": [
    "After you’ve had some exposure and experience, the technical terms that follow those examples should make more sense and be more memorable. We hope you like it."
   ]
  },
  {
   "cell_type": "markdown",
   "id": "d2597332",
   "metadata": {
    "slideshow": {
     "slide_type": "slide"
    }
   },
   "source": [
    "Setting Up Your Python Environment "
   ]
  },
  {
   "cell_type": "markdown",
   "id": "bb1b779b",
   "metadata": {
    "slideshow": {
     "slide_type": "slide"
    }
   },
   "source": [
    "In order to dive in, we’ll need a place to swim, and that’s a Python 3 environment.   "
   ]
  },
  {
   "cell_type": "markdown",
   "id": "df57de61",
   "metadata": {
    "slideshow": {
     "slide_type": "slide"
    }
   },
   "source": [
    "If you are already a Python 3 pro and have no trouble installing modules that you discover you need, skip this section and do some actual diving.   "
   ]
  },
  {
   "cell_type": "markdown",
   "id": "56b7a591",
   "metadata": {
    "slideshow": {
     "slide_type": "slide"
    }
   },
   "source": [
    "Otherwise, read on, and we’ll get through the setup steps quickly.  "
   ]
  },
  {
   "cell_type": "markdown",
   "id": "f9125bf0",
   "metadata": {},
   "source": [
    "All of the examples in this book are written using Python 3 and the third-party “cryptography” module.   "
   ]
  },
  {
   "cell_type": "markdown",
   "id": "8c0ce0d8",
   "metadata": {
    "slideshow": {
     "slide_type": "slide"
    }
   },
   "source": [
    "If you do not want to mess around with your system Python environment, we suggest creating a Python virtual environment using the venv module. "
   ]
  },
  {
   "cell_type": "markdown",
   "id": "04310c06",
   "metadata": {
    "slideshow": {
     "slide_type": "slide"
    }
   },
   "source": [
    "  \n",
    "\n",
    "This will configure a selected directory with a Python interpreter and associated modules. "
   ]
  },
  {
   "cell_type": "markdown",
   "id": "e3e81fdb",
   "metadata": {
    "slideshow": {
     "slide_type": "slide"
    }
   },
   "source": [
    "Using an “activate” script, the shell is directed to use this custom environment for Python rather than the system-wide installation. "
   ]
  },
  {
   "cell_type": "markdown",
   "id": "ecef3f64",
   "metadata": {
    "slideshow": {
     "slide_type": "slide"
    }
   },
   "source": [
    "Any modules you install are only locally installed."
   ]
  },
  {
   "cell_type": "markdown",
   "id": "386546fc",
   "metadata": {
    "slideshow": {
     "slide_type": "slide"
    }
   },
   "source": [
    "We will walk through installing the system in Ubuntu Linux in this section."
   ]
  },
  {
   "cell_type": "markdown",
   "id": "a41a35fd",
   "metadata": {
    "slideshow": {
     "slide_type": "slide"
    }
   },
   "source": [
    "Installation will be slightly different for other versions of Linux or Unix and may be\n",
    "considerably different for Windows."
   ]
  },
  {
   "cell_type": "markdown",
   "id": "0e29c64d",
   "metadata": {
    "slideshow": {
     "slide_type": "slide"
    }
   },
   "source": [
    "First, we need to install Python 3, Pip, and the venv module:  \n",
    "\n",
    "`apt install python3 python3-venv python3-pip`"
   ]
  },
  {
   "cell_type": "markdown",
   "id": "69e3dcc8",
   "metadata": {
    "slideshow": {
     "slide_type": "slide"
    }
   },
   "source": [
    "Next, we use venv to set up the environment in an env directory:  \n",
    "\n",
    "`python3 -m venv env`"
   ]
  },
  {
   "cell_type": "markdown",
   "id": "fbad0ebe",
   "metadata": {
    "slideshow": {
     "slide_type": "slide"
    }
   },
   "source": [
    "This will set up the interpreter and modules within the path. Once the installation is complete, the environment can be used at any time by the following command:  \n",
    "\n",
    "source env/bin/activate"
   ]
  },
  {
   "cell_type": "markdown",
   "id": "e4e8cc87",
   "metadata": {
    "slideshow": {
     "slide_type": "slide"
    }
   },
   "source": [
    "You should now see a prefix to your shell prompt with the name of your environment. "
   ]
  },
  {
   "cell_type": "markdown",
   "id": "1204cc50",
   "metadata": {
    "slideshow": {
     "slide_type": "slide"
    }
   },
   "source": [
    "Once your environment is activated, install the cryptography module.\n",
    "Remember to activate your Python virtual environment first if you don’t want\n",
    "cryptography installed system-wide.  \n",
    "\n",
    "`pip install cryptography`"
   ]
  },
  {
   "cell_type": "markdown",
   "id": "a286e654",
   "metadata": {
    "slideshow": {
     "slide_type": "slide"
    }
   },
   "source": [
    "We will be using the cryptography module throughout the book. "
   ]
  },
  {
   "cell_type": "markdown",
   "id": "52ac885a",
   "metadata": {
    "slideshow": {
     "slide_type": "slide"
    }
   },
   "source": [
    "Many times we will refer directly to the module’s documentation that can be found online at https://\n",
    "cryptography.io/en/latest/.  "
   ]
  },
  {
   "cell_type": "markdown",
   "id": "b77117d5",
   "metadata": {
    "slideshow": {
     "slide_type": "slide"
    }
   },
   "source": [
    "For some practices, we will also need the gmpy2 module. "
   ]
  },
  {
   "cell_type": "markdown",
   "id": "63131c32",
   "metadata": {
    "slideshow": {
     "slide_type": "slide"
    }
   },
   "source": [
    "This does require a few system-wide packages."
   ]
  },
  {
   "cell_type": "markdown",
   "id": "1d641528",
   "metadata": {
    "slideshow": {
     "slide_type": "slide"
    }
   },
   "source": [
    "apt install libmpfr-dev libmpc-dev libgmp-dev python3-gmpy2\n",
    "Once you have these packages installed, you can install the Python gmpy2 module\n",
    "within your virtual environment  \n",
    "\n",
    "`pip install gmpy2`  "
   ]
  },
  {
   "cell_type": "markdown",
   "id": "18752aa4",
   "metadata": {
    "slideshow": {
     "slide_type": "slide"
    }
   },
   "source": [
    "Note that within the virtual environment, you can use “python” instead of “python3”\n",
    "and “pip” instead of “pip3.” This is because when you created the environment with\n",
    "venv, you did so using Python3. Within the virtual environment, Python3 is the only\n",
    "interpreter and there is no need to differentiate between version 2 and version 3. If you"
   ]
  },
  {
   "cell_type": "code",
   "execution_count": null,
   "id": "3988e9d3",
   "metadata": {},
   "outputs": [],
   "source": []
  },
  {
   "cell_type": "code",
   "execution_count": null,
   "id": "e4cf0b40",
   "metadata": {},
   "outputs": [],
   "source": []
  },
  {
   "cell_type": "markdown",
   "id": "1a4902fe",
   "metadata": {
    "slideshow": {
     "slide_type": "slide"
    }
   },
   "source": [
    "Hay ejemplos y ejercicios a lo largo de cada capítulo, generalmente con un ejercicio de seguimiento justo al principio para ayudarlo a orientarse.\n",
    "\n",
    "Estos ejemplos a menudo van acompañados de un escenario ficticio para agregar algo de contexto.\n",
    "\n",
    "Después de haber tenido algo de exposición y experiencia, los términos técnicos que siguen a esos ejemplos deberían hacer\n",
    "más sentido y ser más memorable. Esperamos que os guste.\n",
    "\n",
    "Configuración de su entorno de Python\n",
    "\n",
    "Para sumergirnos, necesitaremos un lugar para nadar, y ese es un entorno de Python 3.\n",
    "\n",
    "Si ya es un profesional de Python 3 y no tiene problemas para instalar los módulos que descubre que necesita, omita esta sección y haga un poco de buceo real.\n",
    "\n",
    "De lo contrario, siga leyendo y seguiremos los pasos de configuración rápidamente.\n",
    "\n",
    "\n",
    "Todos los ejemplos de este libro están escritos con Python 3 y el módulo de \"criptografía\" de terceros.\n",
    "\n",
    "\n",
    "Si no desea perder el tiempo con el entorno de Python de su sistema, le sugerimos que cree un entorno virtual de Python utilizando el módulo venv."
   ]
  },
  {
   "cell_type": "markdown",
   "id": "9c1506ed",
   "metadata": {
    "slideshow": {
     "slide_type": "slide"
    }
   },
   "source": [
    "Esto configurará un directorio seleccionado con un intérprete de Python y módulos asociados. "
   ]
  },
  {
   "cell_type": "markdown",
   "id": "66f3246b",
   "metadata": {
    "slideshow": {
     "slide_type": "slide"
    }
   },
   "source": [
    "Usando un script de \"activación\", el shell se dirige a usar este entorno personalizado para Python en lugar de la instalación en todo el sistema. "
   ]
  },
  {
   "cell_type": "markdown",
   "id": "2cff4d1c",
   "metadata": {
    "slideshow": {
     "slide_type": "slide"
    }
   },
   "source": [
    "Cualquier módulo que instale solo se instala localmente."
   ]
  },
  {
   "cell_type": "code",
   "execution_count": null,
   "id": "326e970c",
   "metadata": {
    "slideshow": {
     "slide_type": "slide"
    }
   },
   "outputs": [],
   "source": []
  },
  {
   "cell_type": "markdown",
   "id": "7e6e2523",
   "metadata": {
    "slideshow": {
     "slide_type": "slide"
    }
   },
   "source": [
    "# Caesar’s Shifty Cipher"
   ]
  },
  {
   "cell_type": "markdown",
   "id": "69779088",
   "metadata": {
    "slideshow": {
     "slide_type": "slide"
    }
   },
   "source": [
    "# Cifrado astuto de César"
   ]
  },
  {
   "cell_type": "markdown",
   "id": "bc013fe2",
   "metadata": {
    "slideshow": {
     "slide_type": "slide"
    }
   },
   "source": [
    "The two (made-up) countries of East Antarctica (EA) and West Antarctica (WA) don’t like each other very much and are spying on each other incessantly. "
   ]
  },
  {
   "cell_type": "markdown",
   "id": "5b2abb80",
   "metadata": {
    "slideshow": {
     "slide_type": "slide"
    }
   },
   "source": [
    "Los dos países (inventados) de la Antártida Oriental (EA) y la Antártida Occidental (WA) no se gustan mucho y se espían incesantemente."
   ]
  },
  {
   "cell_type": "markdown",
   "id": "9b453131",
   "metadata": {
    "slideshow": {
     "slide_type": "slide"
    }
   },
   "source": [
    "In this scenario, two spies from EA, with code names “Alice” and “Bob,” have infiltrated their western \n",
    "neighbors and are sending messages back and forth through covert channels."
   ]
  },
  {
   "cell_type": "markdown",
   "id": "a9516622",
   "metadata": {
    "slideshow": {
     "slide_type": "slide"
    }
   },
   "source": [
    "En este escenario, dos espías de EA, con nombres en clave \"Alice\" y \"Bob\", se han infiltrado en sus vecinos occidentales y están enviando mensajes de un lado a otro a través de canales encubiertos."
   ]
  },
  {
   "cell_type": "markdown",
   "id": "abe2eeed",
   "metadata": {
    "slideshow": {
     "slide_type": "slide"
    }
   },
   "source": [
    "They don’t like it when their adversaries in West Antarctica read their messages, so they communicate using a secret code."
   ]
  },
  {
   "cell_type": "markdown",
   "id": "0e648b2c",
   "metadata": {
    "slideshow": {
     "slide_type": "slide"
    }
   },
   "source": [
    "No les gusta que sus adversarios en la Antártida Occidental lean sus mensajes, por lo que se comunican mediante un código secreto."
   ]
  },
  {
   "cell_type": "markdown",
   "id": "dd7ea860",
   "metadata": {
    "slideshow": {
     "slide_type": "slide"
    }
   },
   "source": [
    "Unfortunately, East Antarctica is not particularly advanced in the realm of cryptography. "
   ]
  },
  {
   "cell_type": "markdown",
   "id": "23dc0066",
   "metadata": {
    "slideshow": {
     "slide_type": "slide"
    }
   },
   "source": [
    "Desafortunadamente, la Antártida Oriental no está particularmente avanzada en el ámbito de la criptografía."
   ]
  },
  {
   "cell_type": "markdown",
   "id": "002a12f2",
   "metadata": {
    "slideshow": {
     "slide_type": "slide"
    }
   },
   "source": [
    "For a code, the East Antarctica Truth-Spying Agency (EATSA) creates a simple substitution by replacing each letter with another letter later in the alphabet. "
   ]
  },
  {
   "cell_type": "markdown",
   "id": "3d265dec",
   "metadata": {
    "slideshow": {
     "slide_type": "slide"
    }
   },
   "source": [
    "Para un código, la Agencia de Espionaje de la Verdad de la Antártida Oriental (EATSA) crea una sustitución simple reemplazando cada letra con otra letra más adelante en el alfabeto."
   ]
  },
  {
   "cell_type": "markdown",
   "id": "6d710baa",
   "metadata": {
    "slideshow": {
     "slide_type": "slide"
    }
   },
   "source": [
    "Both countries use the standard ASCII alphabet with the letters “A” through “Z.”"
   ]
  },
  {
   "cell_type": "markdown",
   "id": "854cd242",
   "metadata": {
    "slideshow": {
     "slide_type": "slide"
    }
   },
   "source": [
    "Ambos países utilizan el alfabeto ASCII estándar con las letras de la \"A\" a la \"Z\"."
   ]
  },
  {
   "cell_type": "markdown",
   "id": "8050cc1e",
   "metadata": {
    "slideshow": {
     "slide_type": "slide"
    }
   },
   "source": [
    "Suppose for a moment that they choose to code their messages using this substitution technique with the shift distance set to 1. "
   ]
  },
  {
   "cell_type": "markdown",
   "id": "a23712a9",
   "metadata": {
    "slideshow": {
     "slide_type": "slide"
    }
   },
   "source": [
    "Supongamos por un momento que eligen codificar sus mensajes utilizando esta técnica de sustitución con la distancia de cambio establecida en 1. "
   ]
  },
  {
   "cell_type": "markdown",
   "id": "77697958",
   "metadata": {
    "slideshow": {
     "slide_type": "slide"
    }
   },
   "source": [
    "In that case, the letter “A” would be replaced with “B,” the letter “B” would be replaced with “C,” and so on. "
   ]
  },
  {
   "cell_type": "markdown",
   "id": "af2b2deb",
   "metadata": {
    "slideshow": {
     "slide_type": "slide"
    }
   },
   "source": [
    "En ese caso, la letra \"A\" sería se reemplazaría con \"B\", la letra \"B\" se reemplazaría con \"C\", y así sucesivamente."
   ]
  },
  {
   "cell_type": "markdown",
   "id": "b8eb7897",
   "metadata": {
    "slideshow": {
     "slide_type": "slide"
    }
   },
   "source": [
    "The last letter of the alphabet, “Z,” would wrap around to the beginning and be replaced with “A.” "
   ]
  },
  {
   "cell_type": "markdown",
   "id": "a246d21d",
   "metadata": {
    "slideshow": {
     "slide_type": "slide"
    }
   },
   "source": [
    "La última letra del alfabeto, \"Z\", se ajustaría al principio y se reemplazaría por \"A\"."
   ]
  },
  {
   "cell_type": "markdown",
   "id": "833dc454",
   "metadata": {
    "slideshow": {
     "slide_type": "slide"
    }
   },
   "source": [
    "This table shows the whole (uppercase) mapping of plaintext (original, untouched) letters to \n",
    "ciphertext (coded) letters. "
   ]
  },
  {
   "cell_type": "markdown",
   "id": "96445e93",
   "metadata": {
    "slideshow": {
     "slide_type": "slide"
    }
   },
   "source": [
    "Esta tabla muestra el mapeo completo (en mayúsculas) de letras de texto simple (original, intacto) a letras de texto cifrado (codificadas). "
   ]
  },
  {
   "cell_type": "markdown",
   "id": "eca6438f",
   "metadata": {
    "slideshow": {
     "slide_type": "slide"
    }
   },
   "source": [
    "Non-letters like spaces and punctuation are left intact."
   ]
  },
  {
   "cell_type": "markdown",
   "id": "3670a6cc",
   "metadata": {
    "slideshow": {
     "slide_type": "slide"
    }
   },
   "source": [
    "Las letras que no son como espacios y puntuación se dejan intactas."
   ]
  },
  {
   "cell_type": "markdown",
   "id": "12ad9f04",
   "metadata": {
    "slideshow": {
     "slide_type": "slide"
    }
   },
   "source": [
    "<img src = ''>"
   ]
  },
  {
   "cell_type": "code",
   "execution_count": null,
   "id": "b0cb977a",
   "metadata": {
    "slideshow": {
     "slide_type": "slide"
    }
   },
   "outputs": [],
   "source": []
  },
  {
   "cell_type": "code",
   "execution_count": null,
   "id": "f8888919",
   "metadata": {},
   "outputs": [],
   "source": []
  },
  {
   "cell_type": "code",
   "execution_count": null,
   "id": "8003b09f",
   "metadata": {},
   "outputs": [],
   "source": []
  },
  {
   "cell_type": "code",
   "execution_count": null,
   "id": "9e791769",
   "metadata": {},
   "outputs": [],
   "source": []
  },
  {
   "cell_type": "code",
   "execution_count": null,
   "id": "4656c2e2",
   "metadata": {},
   "outputs": [],
   "source": []
  }
 ],
 "metadata": {
  "celltoolbar": "Slideshow",
  "kernelspec": {
   "display_name": "Python 3 (ipykernel)",
   "language": "python",
   "name": "python3"
  },
  "language_info": {
   "codemirror_mode": {
    "name": "ipython",
    "version": 3
   },
   "file_extension": ".py",
   "mimetype": "text/x-python",
   "name": "python",
   "nbconvert_exporter": "python",
   "pygments_lexer": "ipython3",
   "version": "3.9.13"
  }
 },
 "nbformat": 4,
 "nbformat_minor": 5
}
